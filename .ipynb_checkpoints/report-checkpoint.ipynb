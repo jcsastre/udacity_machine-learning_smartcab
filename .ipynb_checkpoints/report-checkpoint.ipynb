{
 "cells": [
  {
   "cell_type": "markdown",
   "metadata": {
    "collapsed": true
   },
   "source": [
    "<h1>Self-Driving Agent Report</h1>"
   ]
  },
  {
   "cell_type": "markdown",
   "metadata": {},
   "source": [
    "<h2>1. Implementation of a Basic Driving Agent</h2>\n",
    "\n",
    "As starting task, we will move the smartcab around the environment using a random approach. The set of possible actions will be: None, forward, left, right. The deadline will be set to false, but this doesn't mean that smartcab has an infinite number of moves as can see on code of the file **smartcab/environment.py** (but will increase a lot the number of moves available).\n",
    "\n",
    "The code corresponding to this agent can be found on the class **RandomAgent** at the file **smartcab/agents.py**.\n",
    "\n",
    "Observations from simulation:\n",
    "\n",
    "1. Normally the smartcab action is not optimal, but normally reaches the destination because has a lot of moves available to reach the destination.\n",
    "2. The environment  doesn't allow any agent to execute and action that violates traffic rules, but a strong negative reward is applied."
   ]
  },
  {
   "cell_type": "markdown",
   "metadata": {},
   "source": [
    "<h2>2. Inform the Driving Agent</h2>\n",
    "\n",
    "The next task  is to identify a set of states that are appropriate for modeling the smartcab and environment. \n",
    "\n",
    "All the information we receive come from the environment and the planner.\n",
    "\n",
    "Sensing the environment provide us with these inputs:\n",
    "\n",
    "- light:\n",
    "    - Possible values: Red / Green\n",
    "- oncoming:\n",
    "    - Possible values: None / Forward / Right / Left\n",
    "    - Indicates if there is a car oncoming and the action wants to execute.\n",
    "- right:\n",
    "    - Possible values: None / Forward / Right / Left\n",
    "    - Indicates if there is a car approaching from the right oncoming and \n",
    "    the action wants to execute.\n",
    "- left:\n",
    "    - Possible values: None / Forward / Right / Left\n",
    "    - Indicates if there is a car approaching from the left oncoming and \n",
    "    the action wants to execute.\n",
    "\n",
    "Also from the environment we can obtain the deadline, that is the number of remaining moves to reach the destination.\n",
    "\n",
    "The planner provides next_waypoint, with these possible values: Forward, Right and Left.\n",
    "\n",
    "For representing the state we will use: **next_waypoint**, **light**, **oncoming**, **right** and **left**.\n",
    "\n",
    "Having in mind we use *next_waypoint*, is not very useful to also use *deadline*. Also *deadline* will increase considerably the number of possible states, and would penalize the Q-Learning implementation.\n",
    "\n",
    "The information from *light*, *oncoming*, *right* and *left* can help Q-Learning to avoid traffic violations. The information from *next_waypoint* can help Q-Learning to reach the destination as soon as possible.\n",
    " \n",
    "Having in mind the properties used for the state, and possible values for each of these, the total number of different states are: 3 x 2 x 4 x 4 x 4. This means a total of 384 states at a given time."
   ]
  },
  {
   "cell_type": "markdown",
   "metadata": {},
   "source": [
    "<h2>3. Implement a Q-Learning Driving Agent</h2>\n",
    "\n",
    "The third task is to implement the Q-Learning algorithm for the driving agent. The code corresponding to this agent can be found on the class **QLearningAgent** at the file **smartcab/agents.py**.\n",
    "\n",
    "The core of the algorithm is a simple value iteration update. It assumes the old value and makes a correction based on the new information (Source: [Wikipedia](https://en.wikipedia.org/wiki/Q-learning)):\n",
    "\n",
    "![](images/qlearn.png)\n",
    "\n",
    "Before proceeding to the simulation, some parameter values should be set.\n",
    "\n",
    "In the formula shown above, two contants can be seen:\n",
    "- **alpha_rate (α)** or **learning rate**: Determines to what extent the newly acquired information will override the old information.\n",
    "- **gamma rate (γ)** or **discount factor**: Determines the importance of future rewards.\n",
    "\n",
    "Another important parameter when *QLearnAgent* should choose an action is the **epsilon_rate (ε)** or **exploration rate**. This parameter determines when to explore new states, or when to exploit already learn information.\n",
    "\n",
    "Finally another important value is the **Q init-value**, that is the value assigned to initialize the *Q matrix*. Please, notice that in the I don't make a static initialization. Instead, in the method **get_q_value** I return **self.q_init_value**:\n",
    "\n",
    "~~~~\n",
    "def get_q_value(self, state, action):\n",
    "    key = (state, action)\n",
    "    return self.q_matrix.get(key, self.q_init_value)\n",
    "~~~~\n",
    "\n",
    "The param **self.q_init_value** can be set on the parameters of the *QLearnAgent* constructor.\n",
    "\n",
    "In my first attempt I will try with a very *exploratory* *QLearnAgent*. I will assign these values: *alpha_rate = 0.7*, *gamma rate = 0.5*, *epsilon_rate = 0.9* and *Q init-value = 10*.\n",
    "\n",
    "The simulation will be executed 100 times, with enforce_deadline to True. Some code has been create to generate stats that I will analyze."
   ]
  },
  {
   "cell_type": "markdown",
   "metadata": {},
   "source": [
    "<h4>3.1. Analysis of generated data</h4>"
   ]
  },
  {
   "cell_type": "code",
   "execution_count": 32,
   "metadata": {
    "collapsed": false
   },
   "outputs": [],
   "source": [
    "import pandas as pd\n",
    "\n",
    "data_q_first = pd.read_csv(\"smartcab/main_q-agent_first_stats.csv\", index_col=0)"
   ]
  },
  {
   "cell_type": "markdown",
   "metadata": {},
   "source": [
    "The generated stats consist on a table containing 100 rows (one by simulation round), and 6 columns:\n",
    "- **simulation_round**: The round number of the simulation.\n",
    "- **success**: True if the agent reached the destination.\n",
    "- **cum_reward**: The accumulated reward in that simulation.\n",
    "- **explored_states_cum**: The accumulated number of states explored.\n",
    "- **traffic_violations_count**: The traffic violations that occurred in that simulation.\n",
    "- **actions_count**: The actions taken in that simulation."
   ]
  },
  {
   "cell_type": "markdown",
   "metadata": {
    "collapsed": true
   },
   "source": [
    "Let's explore the 10 first rounds:"
   ]
  },
  {
   "cell_type": "code",
   "execution_count": 35,
   "metadata": {
    "collapsed": false
   },
   "outputs": [
    {
     "data": {
      "text/html": [
       "<div>\n",
       "<table border=\"1\" class=\"dataframe\">\n",
       "  <thead>\n",
       "    <tr style=\"text-align: right;\">\n",
       "      <th></th>\n",
       "      <th>simulation_round</th>\n",
       "      <th>success</th>\n",
       "      <th>cum_reward</th>\n",
       "      <th>explored_states_cum</th>\n",
       "      <th>traffic_violations_count</th>\n",
       "      <th>actions_count</th>\n",
       "    </tr>\n",
       "  </thead>\n",
       "  <tbody>\n",
       "    <tr>\n",
       "      <th>0</th>\n",
       "      <td>1</td>\n",
       "      <td>True</td>\n",
       "      <td>-6.5</td>\n",
       "      <td>10</td>\n",
       "      <td>5</td>\n",
       "      <td>16</td>\n",
       "    </tr>\n",
       "    <tr>\n",
       "      <th>1</th>\n",
       "      <td>2</td>\n",
       "      <td>True</td>\n",
       "      <td>3.5</td>\n",
       "      <td>21</td>\n",
       "      <td>5</td>\n",
       "      <td>16</td>\n",
       "    </tr>\n",
       "    <tr>\n",
       "      <th>2</th>\n",
       "      <td>3</td>\n",
       "      <td>False</td>\n",
       "      <td>-9.0</td>\n",
       "      <td>29</td>\n",
       "      <td>7</td>\n",
       "      <td>30</td>\n",
       "    </tr>\n",
       "    <tr>\n",
       "      <th>3</th>\n",
       "      <td>4</td>\n",
       "      <td>False</td>\n",
       "      <td>4.5</td>\n",
       "      <td>31</td>\n",
       "      <td>5</td>\n",
       "      <td>20</td>\n",
       "    </tr>\n",
       "    <tr>\n",
       "      <th>4</th>\n",
       "      <td>5</td>\n",
       "      <td>False</td>\n",
       "      <td>-9.5</td>\n",
       "      <td>31</td>\n",
       "      <td>12</td>\n",
       "      <td>35</td>\n",
       "    </tr>\n",
       "    <tr>\n",
       "      <th>5</th>\n",
       "      <td>6</td>\n",
       "      <td>False</td>\n",
       "      <td>3.5</td>\n",
       "      <td>31</td>\n",
       "      <td>8</td>\n",
       "      <td>30</td>\n",
       "    </tr>\n",
       "    <tr>\n",
       "      <th>6</th>\n",
       "      <td>7</td>\n",
       "      <td>False</td>\n",
       "      <td>-2.5</td>\n",
       "      <td>32</td>\n",
       "      <td>7</td>\n",
       "      <td>25</td>\n",
       "    </tr>\n",
       "    <tr>\n",
       "      <th>7</th>\n",
       "      <td>8</td>\n",
       "      <td>False</td>\n",
       "      <td>-11.0</td>\n",
       "      <td>35</td>\n",
       "      <td>8</td>\n",
       "      <td>40</td>\n",
       "    </tr>\n",
       "    <tr>\n",
       "      <th>8</th>\n",
       "      <td>9</td>\n",
       "      <td>False</td>\n",
       "      <td>-3.5</td>\n",
       "      <td>36</td>\n",
       "      <td>7</td>\n",
       "      <td>25</td>\n",
       "    </tr>\n",
       "    <tr>\n",
       "      <th>9</th>\n",
       "      <td>10</td>\n",
       "      <td>False</td>\n",
       "      <td>-5.0</td>\n",
       "      <td>39</td>\n",
       "      <td>10</td>\n",
       "      <td>25</td>\n",
       "    </tr>\n",
       "  </tbody>\n",
       "</table>\n",
       "</div>"
      ],
      "text/plain": [
       "   simulation_round success  cum_reward  explored_states_cum  \\\n",
       "0                 1    True        -6.5                   10   \n",
       "1                 2    True         3.5                   21   \n",
       "2                 3   False        -9.0                   29   \n",
       "3                 4   False         4.5                   31   \n",
       "4                 5   False        -9.5                   31   \n",
       "5                 6   False         3.5                   31   \n",
       "6                 7   False        -2.5                   32   \n",
       "7                 8   False       -11.0                   35   \n",
       "8                 9   False        -3.5                   36   \n",
       "9                10   False        -5.0                   39   \n",
       "\n",
       "   traffic_violations_count  actions_count  \n",
       "0                         5             16  \n",
       "1                         5             16  \n",
       "2                         7             30  \n",
       "3                         5             20  \n",
       "4                        12             35  \n",
       "5                         8             30  \n",
       "6                         7             25  \n",
       "7                         8             40  \n",
       "8                         7             25  \n",
       "9                        10             25  "
      ]
     },
     "execution_count": 35,
     "metadata": {},
     "output_type": "execute_result"
    }
   ],
   "source": [
    "data_q_first.head(10)"
   ]
  },
  {
   "cell_type": "markdown",
   "metadata": {},
   "source": [
    "We see that normally doesn't have success and commits a lot of traffic violations. The accumulated reward is normally negative. The explored states increases as rounds are done.\n",
    "\n",
    "Let's see now the 10 last iterations:"
   ]
  },
  {
   "cell_type": "code",
   "execution_count": 36,
   "metadata": {
    "collapsed": false
   },
   "outputs": [
    {
     "data": {
      "text/html": [
       "<div>\n",
       "<table border=\"1\" class=\"dataframe\">\n",
       "  <thead>\n",
       "    <tr style=\"text-align: right;\">\n",
       "      <th></th>\n",
       "      <th>simulation_round</th>\n",
       "      <th>success</th>\n",
       "      <th>cum_reward</th>\n",
       "      <th>explored_states_cum</th>\n",
       "      <th>traffic_violations_count</th>\n",
       "      <th>actions_count</th>\n",
       "    </tr>\n",
       "  </thead>\n",
       "  <tbody>\n",
       "    <tr>\n",
       "      <th>90</th>\n",
       "      <td>91</td>\n",
       "      <td>False</td>\n",
       "      <td>2.0</td>\n",
       "      <td>110</td>\n",
       "      <td>7</td>\n",
       "      <td>20</td>\n",
       "    </tr>\n",
       "    <tr>\n",
       "      <th>91</th>\n",
       "      <td>92</td>\n",
       "      <td>False</td>\n",
       "      <td>-4.5</td>\n",
       "      <td>110</td>\n",
       "      <td>9</td>\n",
       "      <td>25</td>\n",
       "    </tr>\n",
       "    <tr>\n",
       "      <th>92</th>\n",
       "      <td>93</td>\n",
       "      <td>False</td>\n",
       "      <td>1.0</td>\n",
       "      <td>111</td>\n",
       "      <td>6</td>\n",
       "      <td>30</td>\n",
       "    </tr>\n",
       "    <tr>\n",
       "      <th>93</th>\n",
       "      <td>94</td>\n",
       "      <td>False</td>\n",
       "      <td>0.5</td>\n",
       "      <td>111</td>\n",
       "      <td>5</td>\n",
       "      <td>20</td>\n",
       "    </tr>\n",
       "    <tr>\n",
       "      <th>94</th>\n",
       "      <td>95</td>\n",
       "      <td>False</td>\n",
       "      <td>-4.0</td>\n",
       "      <td>111</td>\n",
       "      <td>5</td>\n",
       "      <td>20</td>\n",
       "    </tr>\n",
       "    <tr>\n",
       "      <th>95</th>\n",
       "      <td>96</td>\n",
       "      <td>False</td>\n",
       "      <td>-2.0</td>\n",
       "      <td>112</td>\n",
       "      <td>7</td>\n",
       "      <td>20</td>\n",
       "    </tr>\n",
       "    <tr>\n",
       "      <th>96</th>\n",
       "      <td>97</td>\n",
       "      <td>True</td>\n",
       "      <td>7.0</td>\n",
       "      <td>112</td>\n",
       "      <td>6</td>\n",
       "      <td>24</td>\n",
       "    </tr>\n",
       "    <tr>\n",
       "      <th>97</th>\n",
       "      <td>98</td>\n",
       "      <td>False</td>\n",
       "      <td>-7.5</td>\n",
       "      <td>112</td>\n",
       "      <td>12</td>\n",
       "      <td>40</td>\n",
       "    </tr>\n",
       "    <tr>\n",
       "      <th>98</th>\n",
       "      <td>99</td>\n",
       "      <td>False</td>\n",
       "      <td>10.5</td>\n",
       "      <td>112</td>\n",
       "      <td>3</td>\n",
       "      <td>20</td>\n",
       "    </tr>\n",
       "    <tr>\n",
       "      <th>99</th>\n",
       "      <td>100</td>\n",
       "      <td>False</td>\n",
       "      <td>-12.5</td>\n",
       "      <td>112</td>\n",
       "      <td>10</td>\n",
       "      <td>30</td>\n",
       "    </tr>\n",
       "  </tbody>\n",
       "</table>\n",
       "</div>"
      ],
      "text/plain": [
       "    simulation_round success  cum_reward  explored_states_cum  \\\n",
       "90                91   False         2.0                  110   \n",
       "91                92   False        -4.5                  110   \n",
       "92                93   False         1.0                  111   \n",
       "93                94   False         0.5                  111   \n",
       "94                95   False        -4.0                  111   \n",
       "95                96   False        -2.0                  112   \n",
       "96                97    True         7.0                  112   \n",
       "97                98   False        -7.5                  112   \n",
       "98                99   False        10.5                  112   \n",
       "99               100   False       -12.5                  112   \n",
       "\n",
       "    traffic_violations_count  actions_count  \n",
       "90                         7             20  \n",
       "91                         9             25  \n",
       "92                         6             30  \n",
       "93                         5             20  \n",
       "94                         5             20  \n",
       "95                         7             20  \n",
       "96                         6             24  \n",
       "97                        12             40  \n",
       "98                         3             20  \n",
       "99                        10             30  "
      ]
     },
     "execution_count": 36,
     "metadata": {},
     "output_type": "execute_result"
    }
   ],
   "source": [
    "data_q_first.tail(10)"
   ]
  },
  {
   "cell_type": "markdown",
   "metadata": {
    "collapsed": true
   },
   "source": [
    "We see more or less the same behaviour that in the first rounds, but is exploring many new states.\n",
    "\n",
    "I didn't notice many changes with respect to the *RandomAgent*. The *exploratory nature* of our *QLearnAgent* causes that his behaviour in the first 100 rounds is more or less the same that the *RandomAgent*."
   ]
  },
  {
   "cell_type": "markdown",
   "metadata": {},
   "source": [
    "<h2>4. Improve the Q-Learning Driving Agent</h2>\n",
    "\n",
    "Now let's tune the values for the **Q init value**, the **learning rate (alpha)**, **the discount factor (gamma)** and the **exploration rate (epsilon)**.\n",
    "\n",
    "I will use *Grid Search* technique to tune these parameters.\n",
    "\n",
    "<h3>4.1. Grid Search</h3>\n",
    "\n",
    "I will do a *Grid Search* with these range of values:\n",
    "- *q_init_values*: 0.0, 5.0, 10 (3 values)\n",
    "- *alpha_rate*: 0.00, 0.25, 0.50, 0.75, 1.00 (5 values)\n",
    "- *epsilon_rate*: 0.00, 0.25, 0.50, 0.75, 1.00 (5 values)\n",
    "- *gamma_rate*: 0.00, 0.25, 0.50, 0.75, 1.00 (5 values)\n",
    "\n",
    "The total of combinations will be 375 (3x5x5x5). For each of the combinations, 100 simulations will be performed. This means 37.500 simulations will be done.\n",
    "\n",
    "For each combination of parameters we will aggregatte **ONLY** the results from the last 10 simulations of the *QLearningAgent*. These aggregated stats will be stored on a csv file, that we will analyze.\n",
    "\n",
    "The correspoding code to do the *Grid Search* and to generate the aggreggated stats can be found on **smartcab/main_qlearn_agent_tuning.py**."
   ]
  },
  {
   "cell_type": "code",
   "execution_count": 2,
   "metadata": {
    "collapsed": false
   },
   "outputs": [],
   "source": [
    "import pandas as pd\n",
    "\n",
    "tuning_data = pd.read_csv(\"smartcab/qlearn_agent_tuning_results_3_samples.csv\", index_col=0)"
   ]
  },
  {
   "cell_type": "markdown",
   "metadata": {
    "collapsed": true
   },
   "source": [
    "Let's see some sample rows to understand the data contained:"
   ]
  },
  {
   "cell_type": "code",
   "execution_count": 3,
   "metadata": {
    "collapsed": false
   },
   "outputs": [
    {
     "data": {
      "text/html": [
       "<div>\n",
       "<table border=\"1\" class=\"dataframe\">\n",
       "  <thead>\n",
       "    <tr style=\"text-align: right;\">\n",
       "      <th></th>\n",
       "      <th>q_init_value</th>\n",
       "      <th>alpha_rate</th>\n",
       "      <th>epsilon_rate</th>\n",
       "      <th>gamma_rate</th>\n",
       "      <th>success_perc</th>\n",
       "      <th>traffic_violations_avg</th>\n",
       "      <th>explored_states_avg</th>\n",
       "      <th>reward_cum_avg</th>\n",
       "      <th>actions_avg</th>\n",
       "    </tr>\n",
       "  </thead>\n",
       "  <tbody>\n",
       "    <tr>\n",
       "      <th>0</th>\n",
       "      <td>0.0</td>\n",
       "      <td>0.0</td>\n",
       "      <td>0.0</td>\n",
       "      <td>0.0</td>\n",
       "      <td>30.0</td>\n",
       "      <td>7.2</td>\n",
       "      <td>120.0</td>\n",
       "      <td>-2.15</td>\n",
       "      <td>27.4</td>\n",
       "    </tr>\n",
       "    <tr>\n",
       "      <th>1</th>\n",
       "      <td>0.0</td>\n",
       "      <td>0.0</td>\n",
       "      <td>0.0</td>\n",
       "      <td>0.5</td>\n",
       "      <td>20.0</td>\n",
       "      <td>6.4</td>\n",
       "      <td>86.8</td>\n",
       "      <td>-0.05</td>\n",
       "      <td>27.5</td>\n",
       "    </tr>\n",
       "    <tr>\n",
       "      <th>2</th>\n",
       "      <td>0.0</td>\n",
       "      <td>0.0</td>\n",
       "      <td>0.0</td>\n",
       "      <td>1.0</td>\n",
       "      <td>20.0</td>\n",
       "      <td>8.4</td>\n",
       "      <td>104.6</td>\n",
       "      <td>-2.15</td>\n",
       "      <td>26.8</td>\n",
       "    </tr>\n",
       "    <tr>\n",
       "      <th>3</th>\n",
       "      <td>0.0</td>\n",
       "      <td>0.0</td>\n",
       "      <td>0.5</td>\n",
       "      <td>0.0</td>\n",
       "      <td>10.0</td>\n",
       "      <td>10.0</td>\n",
       "      <td>109.2</td>\n",
       "      <td>-7.00</td>\n",
       "      <td>27.1</td>\n",
       "    </tr>\n",
       "    <tr>\n",
       "      <th>4</th>\n",
       "      <td>0.0</td>\n",
       "      <td>0.0</td>\n",
       "      <td>0.5</td>\n",
       "      <td>0.5</td>\n",
       "      <td>10.0</td>\n",
       "      <td>6.6</td>\n",
       "      <td>87.8</td>\n",
       "      <td>0.05</td>\n",
       "      <td>23.7</td>\n",
       "    </tr>\n",
       "  </tbody>\n",
       "</table>\n",
       "</div>"
      ],
      "text/plain": [
       "   q_init_value  alpha_rate  epsilon_rate  gamma_rate  success_perc  \\\n",
       "0           0.0         0.0           0.0         0.0          30.0   \n",
       "1           0.0         0.0           0.0         0.5          20.0   \n",
       "2           0.0         0.0           0.0         1.0          20.0   \n",
       "3           0.0         0.0           0.5         0.0          10.0   \n",
       "4           0.0         0.0           0.5         0.5          10.0   \n",
       "\n",
       "   traffic_violations_avg  explored_states_avg  reward_cum_avg  actions_avg  \n",
       "0                     7.2                120.0           -2.15         27.4  \n",
       "1                     6.4                 86.8           -0.05         27.5  \n",
       "2                     8.4                104.6           -2.15         26.8  \n",
       "3                    10.0                109.2           -7.00         27.1  \n",
       "4                     6.6                 87.8            0.05         23.7  "
      ]
     },
     "execution_count": 3,
     "metadata": {},
     "output_type": "execute_result"
    }
   ],
   "source": [
    "tuning_data.head(5)"
   ]
  },
  {
   "cell_type": "markdown",
   "metadata": {},
   "source": [
    "Each row corresponds to a simulation. The columns are:\n",
    "- **q_init_value**: The Q initial value used in that simulation.\n",
    "- **alpha_rate**: The alpha rate value used in that simulation.\n",
    "- **epsilon_rate**: The epsilon rate value used in that simulation.\n",
    "- **gamma_rate**: The gamma rate value used in that simulation.\n",
    "- **success_perc**: The percentage of success in that simulation (only for 10 last simulations done).\n",
    "- **traffic_violations_avg**: The traffic violation on average in that simulation (only for 10 last simulations done).\n",
    "- **explored_states_avg**: The explored states on average in that simulation (only for 10 last simulations done).\n",
    "- **reward_cum_avg**: The accumulated reward on average in that simulation (only for 10 last simulations done).\n",
    "- **actions_avg**: The actions done on average in that simulation (only for 10 last simulations done)."
   ]
  },
  {
   "cell_type": "markdown",
   "metadata": {
    "collapsed": true
   },
   "source": [
    "<h3>4.2. An optimal policy</h3>\n",
    "\n",
    "Before looking for the optimal combination of parameters, we should define an optimal policy for the *QLearnAgent*.\n",
    "\n",
    "In my opinion an optimal policy for the smartcab is one that (in order of importance):\n",
    "1. Minimizes the number of traffic violations.\n",
    "2. Maximizes the success.\n",
    "\n",
    "We can also consider in the policy that the number of actions taken is the less as possible."
   ]
  },
  {
   "cell_type": "markdown",
   "metadata": {
    "collapsed": true
   },
   "source": [
    "<h3>4.3. Looking for the best combination of parameters</h3>\n",
    "\n",
    "Let's start describing the data in the generated stats:"
   ]
  },
  {
   "cell_type": "code",
   "execution_count": 4,
   "metadata": {
    "collapsed": false
   },
   "outputs": [
    {
     "data": {
      "text/html": [
       "<div>\n",
       "<table border=\"1\" class=\"dataframe\">\n",
       "  <thead>\n",
       "    <tr style=\"text-align: right;\">\n",
       "      <th></th>\n",
       "      <th>q_init_value</th>\n",
       "      <th>alpha_rate</th>\n",
       "      <th>epsilon_rate</th>\n",
       "      <th>gamma_rate</th>\n",
       "      <th>success_perc</th>\n",
       "      <th>traffic_violations_avg</th>\n",
       "      <th>explored_states_avg</th>\n",
       "      <th>reward_cum_avg</th>\n",
       "      <th>actions_avg</th>\n",
       "    </tr>\n",
       "  </thead>\n",
       "  <tbody>\n",
       "    <tr>\n",
       "      <th>count</th>\n",
       "      <td>81.000000</td>\n",
       "      <td>81.000000</td>\n",
       "      <td>81.000000</td>\n",
       "      <td>81.000000</td>\n",
       "      <td>81.000000</td>\n",
       "      <td>81.000000</td>\n",
       "      <td>81.000000</td>\n",
       "      <td>81.000000</td>\n",
       "      <td>81.000000</td>\n",
       "    </tr>\n",
       "    <tr>\n",
       "      <th>mean</th>\n",
       "      <td>5.000000</td>\n",
       "      <td>0.500000</td>\n",
       "      <td>0.500000</td>\n",
       "      <td>0.500000</td>\n",
       "      <td>20.617284</td>\n",
       "      <td>6.454321</td>\n",
       "      <td>96.527160</td>\n",
       "      <td>-1.064815</td>\n",
       "      <td>26.695062</td>\n",
       "    </tr>\n",
       "    <tr>\n",
       "      <th>std</th>\n",
       "      <td>4.107919</td>\n",
       "      <td>0.410792</td>\n",
       "      <td>0.410792</td>\n",
       "      <td>0.410792</td>\n",
       "      <td>19.896336</td>\n",
       "      <td>3.013928</td>\n",
       "      <td>11.978178</td>\n",
       "      <td>4.228559</td>\n",
       "      <td>4.466428</td>\n",
       "    </tr>\n",
       "    <tr>\n",
       "      <th>min</th>\n",
       "      <td>0.000000</td>\n",
       "      <td>0.000000</td>\n",
       "      <td>0.000000</td>\n",
       "      <td>0.000000</td>\n",
       "      <td>0.000000</td>\n",
       "      <td>0.000000</td>\n",
       "      <td>63.100000</td>\n",
       "      <td>-11.300000</td>\n",
       "      <td>6.600000</td>\n",
       "    </tr>\n",
       "    <tr>\n",
       "      <th>25%</th>\n",
       "      <td>0.000000</td>\n",
       "      <td>0.000000</td>\n",
       "      <td>0.000000</td>\n",
       "      <td>0.000000</td>\n",
       "      <td>10.000000</td>\n",
       "      <td>6.100000</td>\n",
       "      <td>88.200000</td>\n",
       "      <td>-3.350000</td>\n",
       "      <td>24.000000</td>\n",
       "    </tr>\n",
       "    <tr>\n",
       "      <th>50%</th>\n",
       "      <td>5.000000</td>\n",
       "      <td>0.500000</td>\n",
       "      <td>0.500000</td>\n",
       "      <td>0.500000</td>\n",
       "      <td>20.000000</td>\n",
       "      <td>7.300000</td>\n",
       "      <td>96.800000</td>\n",
       "      <td>-1.850000</td>\n",
       "      <td>27.500000</td>\n",
       "    </tr>\n",
       "    <tr>\n",
       "      <th>75%</th>\n",
       "      <td>10.000000</td>\n",
       "      <td>1.000000</td>\n",
       "      <td>1.000000</td>\n",
       "      <td>1.000000</td>\n",
       "      <td>20.000000</td>\n",
       "      <td>8.600000</td>\n",
       "      <td>105.600000</td>\n",
       "      <td>-0.050000</td>\n",
       "      <td>29.500000</td>\n",
       "    </tr>\n",
       "    <tr>\n",
       "      <th>max</th>\n",
       "      <td>10.000000</td>\n",
       "      <td>1.000000</td>\n",
       "      <td>1.000000</td>\n",
       "      <td>1.000000</td>\n",
       "      <td>100.000000</td>\n",
       "      <td>11.100000</td>\n",
       "      <td>120.000000</td>\n",
       "      <td>12.550000</td>\n",
       "      <td>36.500000</td>\n",
       "    </tr>\n",
       "  </tbody>\n",
       "</table>\n",
       "</div>"
      ],
      "text/plain": [
       "       q_init_value  alpha_rate  epsilon_rate  gamma_rate  success_perc  \\\n",
       "count     81.000000   81.000000     81.000000   81.000000     81.000000   \n",
       "mean       5.000000    0.500000      0.500000    0.500000     20.617284   \n",
       "std        4.107919    0.410792      0.410792    0.410792     19.896336   \n",
       "min        0.000000    0.000000      0.000000    0.000000      0.000000   \n",
       "25%        0.000000    0.000000      0.000000    0.000000     10.000000   \n",
       "50%        5.000000    0.500000      0.500000    0.500000     20.000000   \n",
       "75%       10.000000    1.000000      1.000000    1.000000     20.000000   \n",
       "max       10.000000    1.000000      1.000000    1.000000    100.000000   \n",
       "\n",
       "       traffic_violations_avg  explored_states_avg  reward_cum_avg  \\\n",
       "count               81.000000            81.000000       81.000000   \n",
       "mean                 6.454321            96.527160       -1.064815   \n",
       "std                  3.013928            11.978178        4.228559   \n",
       "min                  0.000000            63.100000      -11.300000   \n",
       "25%                  6.100000            88.200000       -3.350000   \n",
       "50%                  7.300000            96.800000       -1.850000   \n",
       "75%                  8.600000           105.600000       -0.050000   \n",
       "max                 11.100000           120.000000       12.550000   \n",
       "\n",
       "       actions_avg  \n",
       "count    81.000000  \n",
       "mean     26.695062  \n",
       "std       4.466428  \n",
       "min       6.600000  \n",
       "25%      24.000000  \n",
       "50%      27.500000  \n",
       "75%      29.500000  \n",
       "max      36.500000  "
      ]
     },
     "execution_count": 4,
     "metadata": {},
     "output_type": "execute_result"
    }
   ],
   "source": [
    "tuning_data.describe()"
   ]
  },
  {
   "cell_type": "markdown",
   "metadata": {},
   "source": [
    "The minimum *traffic_violations_avg* is 0.0, the maximum for *success_perc* is 100% and the minimum for *actions_avg* is 6.6.\n",
    "\n",
    "Let's look for rows where *traffic_violations_avg <= 1* and *success_perc >= 90*:"
   ]
  },
  {
   "cell_type": "code",
   "execution_count": 7,
   "metadata": {
    "collapsed": false
   },
   "outputs": [
    {
     "data": {
      "text/html": [
       "<div>\n",
       "<table border=\"1\" class=\"dataframe\">\n",
       "  <thead>\n",
       "    <tr style=\"text-align: right;\">\n",
       "      <th></th>\n",
       "      <th>q_init_value</th>\n",
       "      <th>alpha_rate</th>\n",
       "      <th>epsilon_rate</th>\n",
       "      <th>gamma_rate</th>\n",
       "      <th>success_perc</th>\n",
       "      <th>traffic_violations_avg</th>\n",
       "      <th>explored_states_avg</th>\n",
       "      <th>reward_cum_avg</th>\n",
       "      <th>actions_avg</th>\n",
       "    </tr>\n",
       "  </thead>\n",
       "  <tbody>\n",
       "    <tr>\n",
       "      <th>10</th>\n",
       "      <td>0.0</td>\n",
       "      <td>0.5</td>\n",
       "      <td>0.0</td>\n",
       "      <td>0.5</td>\n",
       "      <td>100.0</td>\n",
       "      <td>0.1</td>\n",
       "      <td>67.9</td>\n",
       "      <td>10.8</td>\n",
       "      <td>13.6</td>\n",
       "    </tr>\n",
       "  </tbody>\n",
       "</table>\n",
       "</div>"
      ],
      "text/plain": [
       "    q_init_value  alpha_rate  epsilon_rate  gamma_rate  success_perc  \\\n",
       "10           0.0         0.5           0.0         0.5         100.0   \n",
       "\n",
       "    traffic_violations_avg  explored_states_avg  reward_cum_avg  actions_avg  \n",
       "10                     0.1                 67.9            10.8         13.6  "
      ]
     },
     "execution_count": 7,
     "metadata": {},
     "output_type": "execute_result"
    }
   ],
   "source": [
    "tuning_data_rows = tuning_data[(tuning_data['traffic_violations_avg'] <= 1) & (tuning_data['success_perc'] >= 90)]\n",
    "tuning_data_rows.head()"
   ]
  },
  {
   "cell_type": "markdown",
   "metadata": {},
   "source": [
    "In the row 10 we can see that in the 10 last simulations done, the **success_perc=100** and **traffic_violations_avg=0.1**. We can also see that **actions_avg=13.6**.\n",
    "\n",
    "It seems that the price to pay for minimize *traffic_violations_avg* is being far from the minimum *actions_avg* for all combinations trid.\n",
    "\n",
    "So based in my criteria for an optimal policy, the parameter values to use are:\n",
    "- *q_init_value* = 0.0\n",
    "- *alpha_rate* = 0.5\n",
    "- *epsilon_rate* = 0.0\n",
    "- *gamma rate* = 0.5"
   ]
  },
  {
   "cell_type": "markdown",
   "metadata": {
    "collapsed": true
   },
   "source": [
    "<h3>4.4. How these combination of parameters influence QLearnAgent behaviour</h3>\n",
    "\n",
    "To proceed to the analysis, let's generate detailed stats for a *QLearnAgent* using these values for parameters.\n",
    "\n",
    "In **smartcab/main_qlearn_agent_tuned.py** we execute 100 simulations and store the stats on a cvs file:"
   ]
  },
  {
   "cell_type": "code",
   "execution_count": 9,
   "metadata": {
    "collapsed": true
   },
   "outputs": [],
   "source": [
    "stats_tuned = pd.read_csv(\"smartcab/stats_tuned_qlearn_agent.csv\", index_col=0)"
   ]
  },
  {
   "cell_type": "markdown",
   "metadata": {},
   "source": [
    "The *epsilon_rate=0.0* determines that the *QLearningAgent* will always try to exploit what he has already learn. Also a *q_init_value = 0.0* means that the *QLearningAgent* will be very conservative from the very beginning. \n",
    "\n",
    "The combination of these two parameters determines that the *QLearningAgent* will leave soon to explore new states. Let's visualize this behaviour:"
   ]
  },
  {
   "cell_type": "code",
   "execution_count": 22,
   "metadata": {
    "collapsed": false
   },
   "outputs": [
    {
     "data": {
      "text/html": [
       "<div class=\"vega-embed\" id=\"b5604e31-9b06-4a94-a0fd-7b146bec34c1\"></div>\n",
       "\n",
       "<style>\n",
       ".vega-embed svg, .vega-embed canvas {\n",
       "  border: 1px dotted gray;\n",
       "}\n",
       "\n",
       ".vega-embed .vega-actions a {\n",
       "  margin-right: 6px;\n",
       "}\n",
       "</style>\n"
      ]
     },
     "metadata": {
      "jupyter-vega": "#b5604e31-9b06-4a94-a0fd-7b146bec34c1"
     },
     "output_type": "display_data"
    },
    {
     "data": {
      "application/javascript": [
       "var spec = {\"data\": {\"values\": [{\"success\": false, \"explored_states_cum\": 17, \"cum_reward\": -5.0, \"traffic_violations_count\": 10, \"simulation_round\": 1, \"actions_count\": 30}, {\"success\": false, \"explored_states_cum\": 21, \"cum_reward\": -8.0, \"traffic_violations_count\": 10, \"simulation_round\": 2, \"actions_count\": 20}, {\"success\": false, \"explored_states_cum\": 26, \"cum_reward\": -7.0, \"traffic_violations_count\": 11, \"simulation_round\": 3, \"actions_count\": 25}, {\"success\": false, \"explored_states_cum\": 30, \"cum_reward\": -11.5, \"traffic_violations_count\": 5, \"simulation_round\": 4, \"actions_count\": 45}, {\"success\": false, \"explored_states_cum\": 33, \"cum_reward\": -4.5, \"traffic_violations_count\": 6, \"simulation_round\": 5, \"actions_count\": 45}, {\"success\": false, \"explored_states_cum\": 33, \"cum_reward\": 0.0, \"traffic_violations_count\": 2, \"simulation_round\": 6, \"actions_count\": 20}, {\"success\": true, \"explored_states_cum\": 33, \"cum_reward\": -3.0, \"traffic_violations_count\": 5, \"simulation_round\": 7, \"actions_count\": 5}, {\"success\": false, \"explored_states_cum\": 33, \"cum_reward\": 2.0, \"traffic_violations_count\": 0, \"simulation_round\": 8, \"actions_count\": 30}, {\"success\": false, \"explored_states_cum\": 33, \"cum_reward\": 2.0, \"traffic_violations_count\": 6, \"simulation_round\": 9, \"actions_count\": 25}, {\"success\": true, \"explored_states_cum\": 35, \"cum_reward\": 13.5, \"traffic_violations_count\": 4, \"simulation_round\": 10, \"actions_count\": 18}, {\"success\": true, \"explored_states_cum\": 35, \"cum_reward\": 6.0, \"traffic_violations_count\": 0, \"simulation_round\": 11, \"actions_count\": 4}, {\"success\": true, \"explored_states_cum\": 40, \"cum_reward\": 3.0, \"traffic_violations_count\": 5, \"simulation_round\": 12, \"actions_count\": 10}, {\"success\": true, \"explored_states_cum\": 40, \"cum_reward\": -2.0, \"traffic_violations_count\": 8, \"simulation_round\": 13, \"actions_count\": 12}, {\"success\": true, \"explored_states_cum\": 40, \"cum_reward\": 10.0, \"traffic_violations_count\": 0, \"simulation_round\": 14, \"actions_count\": 15}, {\"success\": true, \"explored_states_cum\": 40, \"cum_reward\": 10.0, \"traffic_violations_count\": 0, \"simulation_round\": 15, \"actions_count\": 9}, {\"success\": true, \"explored_states_cum\": 41, \"cum_reward\": 11.0, \"traffic_violations_count\": 1, \"simulation_round\": 16, \"actions_count\": 26}, {\"success\": true, \"explored_states_cum\": 41, \"cum_reward\": 15.5, \"traffic_violations_count\": 0, \"simulation_round\": 17, \"actions_count\": 23}, {\"success\": true, \"explored_states_cum\": 41, \"cum_reward\": 6.0, \"traffic_violations_count\": 0, \"simulation_round\": 18, \"actions_count\": 6}, {\"success\": true, \"explored_states_cum\": 42, \"cum_reward\": 17.5, \"traffic_violations_count\": 4, \"simulation_round\": 19, \"actions_count\": 26}, {\"success\": true, \"explored_states_cum\": 42, \"cum_reward\": 10.0, \"traffic_violations_count\": 0, \"simulation_round\": 20, \"actions_count\": 17}, {\"success\": true, \"explored_states_cum\": 42, \"cum_reward\": 10.0, \"traffic_violations_count\": 0, \"simulation_round\": 21, \"actions_count\": 15}, {\"success\": true, \"explored_states_cum\": 42, \"cum_reward\": 10.0, \"traffic_violations_count\": 0, \"simulation_round\": 22, \"actions_count\": 9}, {\"success\": true, \"explored_states_cum\": 43, \"cum_reward\": 20.0, \"traffic_violations_count\": 0, \"simulation_round\": 23, \"actions_count\": 19}, {\"success\": true, \"explored_states_cum\": 43, \"cum_reward\": 18.0, \"traffic_violations_count\": 0, \"simulation_round\": 24, \"actions_count\": 15}, {\"success\": true, \"explored_states_cum\": 43, \"cum_reward\": 12.0, \"traffic_violations_count\": 0, \"simulation_round\": 25, \"actions_count\": 12}, {\"success\": true, \"explored_states_cum\": 44, \"cum_reward\": 8.0, \"traffic_violations_count\": 0, \"simulation_round\": 26, \"actions_count\": 3}, {\"success\": true, \"explored_states_cum\": 44, \"cum_reward\": 6.0, \"traffic_violations_count\": 0, \"simulation_round\": 27, \"actions_count\": 15}, {\"success\": true, \"explored_states_cum\": 44, \"cum_reward\": 8.0, \"traffic_violations_count\": 0, \"simulation_round\": 28, \"actions_count\": 19}, {\"success\": true, \"explored_states_cum\": 44, \"cum_reward\": 6.0, \"traffic_violations_count\": 0, \"simulation_round\": 29, \"actions_count\": 2}, {\"success\": true, \"explored_states_cum\": 44, \"cum_reward\": 6.0, \"traffic_violations_count\": 0, \"simulation_round\": 30, \"actions_count\": 10}, {\"success\": true, \"explored_states_cum\": 44, \"cum_reward\": 8.0, \"traffic_violations_count\": 0, \"simulation_round\": 31, \"actions_count\": 9}, {\"success\": true, \"explored_states_cum\": 44, \"cum_reward\": 6.0, \"traffic_violations_count\": 0, \"simulation_round\": 32, \"actions_count\": 9}, {\"success\": true, \"explored_states_cum\": 44, \"cum_reward\": 14.0, \"traffic_violations_count\": 0, \"simulation_round\": 33, \"actions_count\": 14}, {\"success\": true, \"explored_states_cum\": 44, \"cum_reward\": 10.0, \"traffic_violations_count\": 0, \"simulation_round\": 34, \"actions_count\": 15}, {\"success\": true, \"explored_states_cum\": 44, \"cum_reward\": 10.0, \"traffic_violations_count\": 0, \"simulation_round\": 35, \"actions_count\": 17}, {\"success\": true, \"explored_states_cum\": 45, \"cum_reward\": 12.0, \"traffic_violations_count\": 0, \"simulation_round\": 36, \"actions_count\": 14}, {\"success\": true, \"explored_states_cum\": 45, \"cum_reward\": 8.0, \"traffic_violations_count\": 0, \"simulation_round\": 37, \"actions_count\": 7}, {\"success\": true, \"explored_states_cum\": 45, \"cum_reward\": 16.0, \"traffic_violations_count\": 0, \"simulation_round\": 38, \"actions_count\": 17}, {\"success\": true, \"explored_states_cum\": 45, \"cum_reward\": 12.0, \"traffic_violations_count\": 0, \"simulation_round\": 39, \"actions_count\": 11}, {\"success\": true, \"explored_states_cum\": 45, \"cum_reward\": 12.0, \"traffic_violations_count\": 0, \"simulation_round\": 40, \"actions_count\": 10}, {\"success\": true, \"explored_states_cum\": 45, \"cum_reward\": 11.5, \"traffic_violations_count\": 0, \"simulation_round\": 41, \"actions_count\": 9}, {\"success\": true, \"explored_states_cum\": 45, \"cum_reward\": 10.0, \"traffic_violations_count\": 0, \"simulation_round\": 42, \"actions_count\": 9}, {\"success\": true, \"explored_states_cum\": 45, \"cum_reward\": 8.0, \"traffic_violations_count\": 0, \"simulation_round\": 43, \"actions_count\": 5}, {\"success\": true, \"explored_states_cum\": 46, \"cum_reward\": 12.0, \"traffic_violations_count\": 0, \"simulation_round\": 44, \"actions_count\": 8}, {\"success\": true, \"explored_states_cum\": 46, \"cum_reward\": 6.0, \"traffic_violations_count\": 0, \"simulation_round\": 45, \"actions_count\": 11}, {\"success\": true, \"explored_states_cum\": 46, \"cum_reward\": 14.0, \"traffic_violations_count\": 0, \"simulation_round\": 46, \"actions_count\": 23}, {\"success\": true, \"explored_states_cum\": 46, \"cum_reward\": 12.0, \"traffic_violations_count\": 0, \"simulation_round\": 47, \"actions_count\": 14}, {\"success\": true, \"explored_states_cum\": 46, \"cum_reward\": 10.0, \"traffic_violations_count\": 0, \"simulation_round\": 48, \"actions_count\": 9}, {\"success\": true, \"explored_states_cum\": 47, \"cum_reward\": 9.0, \"traffic_violations_count\": 1, \"simulation_round\": 49, \"actions_count\": 15}, {\"success\": true, \"explored_states_cum\": 47, \"cum_reward\": 10.0, \"traffic_violations_count\": 0, \"simulation_round\": 50, \"actions_count\": 9}, {\"success\": true, \"explored_states_cum\": 47, \"cum_reward\": 6.0, \"traffic_violations_count\": 0, \"simulation_round\": 51, \"actions_count\": 6}, {\"success\": true, \"explored_states_cum\": 48, \"cum_reward\": 7.0, \"traffic_violations_count\": 1, \"simulation_round\": 52, \"actions_count\": 13}, {\"success\": true, \"explored_states_cum\": 48, \"cum_reward\": 9.5, \"traffic_violations_count\": 0, \"simulation_round\": 53, \"actions_count\": 10}, {\"success\": true, \"explored_states_cum\": 50, \"cum_reward\": 23.0, \"traffic_violations_count\": 0, \"simulation_round\": 54, \"actions_count\": 34}, {\"success\": true, \"explored_states_cum\": 50, \"cum_reward\": 8.0, \"traffic_violations_count\": 0, \"simulation_round\": 55, \"actions_count\": 9}, {\"success\": true, \"explored_states_cum\": 51, \"cum_reward\": 13.5, \"traffic_violations_count\": 0, \"simulation_round\": 56, \"actions_count\": 14}, {\"success\": true, \"explored_states_cum\": 51, \"cum_reward\": 10.0, \"traffic_violations_count\": 0, \"simulation_round\": 57, \"actions_count\": 12}, {\"success\": true, \"explored_states_cum\": 52, \"cum_reward\": 14.5, \"traffic_violations_count\": 1, \"simulation_round\": 58, \"actions_count\": 23}, {\"success\": true, \"explored_states_cum\": 52, \"cum_reward\": 6.0, \"traffic_violations_count\": 0, \"simulation_round\": 59, \"actions_count\": 7}, {\"success\": true, \"explored_states_cum\": 52, \"cum_reward\": 6.0, \"traffic_violations_count\": 0, \"simulation_round\": 60, \"actions_count\": 11}, {\"success\": true, \"explored_states_cum\": 52, \"cum_reward\": 18.0, \"traffic_violations_count\": 0, \"simulation_round\": 61, \"actions_count\": 15}, {\"success\": true, \"explored_states_cum\": 53, \"cum_reward\": 9.5, \"traffic_violations_count\": 0, \"simulation_round\": 62, \"actions_count\": 14}, {\"success\": true, \"explored_states_cum\": 54, \"cum_reward\": 5.5, \"traffic_violations_count\": 0, \"simulation_round\": 63, \"actions_count\": 7}, {\"success\": true, \"explored_states_cum\": 56, \"cum_reward\": 7.0, \"traffic_violations_count\": 1, \"simulation_round\": 64, \"actions_count\": 19}, {\"success\": true, \"explored_states_cum\": 56, \"cum_reward\": 13.5, \"traffic_violations_count\": 2, \"simulation_round\": 65, \"actions_count\": 26}, {\"success\": true, \"explored_states_cum\": 56, \"cum_reward\": 8.0, \"traffic_violations_count\": 0, \"simulation_round\": 66, \"actions_count\": 15}, {\"success\": true, \"explored_states_cum\": 56, \"cum_reward\": 6.0, \"traffic_violations_count\": 0, \"simulation_round\": 67, \"actions_count\": 12}, {\"success\": true, \"explored_states_cum\": 56, \"cum_reward\": 12.0, \"traffic_violations_count\": 0, \"simulation_round\": 68, \"actions_count\": 23}, {\"success\": true, \"explored_states_cum\": 56, \"cum_reward\": 11.0, \"traffic_violations_count\": 1, \"simulation_round\": 69, \"actions_count\": 15}, {\"success\": true, \"explored_states_cum\": 56, \"cum_reward\": 6.0, \"traffic_violations_count\": 0, \"simulation_round\": 70, \"actions_count\": 12}, {\"success\": true, \"explored_states_cum\": 56, \"cum_reward\": 10.0, \"traffic_violations_count\": 0, \"simulation_round\": 71, \"actions_count\": 9}, {\"success\": true, \"explored_states_cum\": 56, \"cum_reward\": 9.5, \"traffic_violations_count\": 0, \"simulation_round\": 72, \"actions_count\": 15}, {\"success\": true, \"explored_states_cum\": 57, \"cum_reward\": 10.0, \"traffic_violations_count\": 0, \"simulation_round\": 73, \"actions_count\": 11}, {\"success\": true, \"explored_states_cum\": 57, \"cum_reward\": 10.0, \"traffic_violations_count\": 0, \"simulation_round\": 74, \"actions_count\": 14}, {\"success\": true, \"explored_states_cum\": 57, \"cum_reward\": 8.0, \"traffic_violations_count\": 0, \"simulation_round\": 75, \"actions_count\": 8}, {\"success\": true, \"explored_states_cum\": 57, \"cum_reward\": 7.5, \"traffic_violations_count\": 0, \"simulation_round\": 76, \"actions_count\": 4}, {\"success\": true, \"explored_states_cum\": 57, \"cum_reward\": 10.0, \"traffic_violations_count\": 0, \"simulation_round\": 77, \"actions_count\": 11}, {\"success\": true, \"explored_states_cum\": 57, \"cum_reward\": 14.0, \"traffic_violations_count\": 0, \"simulation_round\": 78, \"actions_count\": 14}, {\"success\": true, \"explored_states_cum\": 57, \"cum_reward\": 8.0, \"traffic_violations_count\": 0, \"simulation_round\": 79, \"actions_count\": 17}, {\"success\": true, \"explored_states_cum\": 57, \"cum_reward\": 10.0, \"traffic_violations_count\": 0, \"simulation_round\": 80, \"actions_count\": 19}, {\"success\": true, \"explored_states_cum\": 57, \"cum_reward\": 8.0, \"traffic_violations_count\": 0, \"simulation_round\": 81, \"actions_count\": 6}, {\"success\": true, \"explored_states_cum\": 57, \"cum_reward\": 6.0, \"traffic_violations_count\": 0, \"simulation_round\": 82, \"actions_count\": 11}, {\"success\": true, \"explored_states_cum\": 59, \"cum_reward\": 8.0, \"traffic_violations_count\": 0, \"simulation_round\": 83, \"actions_count\": 15}, {\"success\": true, \"explored_states_cum\": 59, \"cum_reward\": 16.0, \"traffic_violations_count\": 0, \"simulation_round\": 84, \"actions_count\": 11}, {\"success\": true, \"explored_states_cum\": 59, \"cum_reward\": 15.5, \"traffic_violations_count\": 0, \"simulation_round\": 85, \"actions_count\": 22}, {\"success\": true, \"explored_states_cum\": 59, \"cum_reward\": 16.0, \"traffic_violations_count\": 0, \"simulation_round\": 86, \"actions_count\": 13}, {\"success\": true, \"explored_states_cum\": 59, \"cum_reward\": 11.5, \"traffic_violations_count\": 0, \"simulation_round\": 87, \"actions_count\": 17}, {\"success\": true, \"explored_states_cum\": 59, \"cum_reward\": 16.0, \"traffic_violations_count\": 0, \"simulation_round\": 88, \"actions_count\": 15}, {\"success\": true, \"explored_states_cum\": 59, \"cum_reward\": 14.0, \"traffic_violations_count\": 0, \"simulation_round\": 89, \"actions_count\": 24}, {\"success\": true, \"explored_states_cum\": 59, \"cum_reward\": 18.0, \"traffic_violations_count\": 0, \"simulation_round\": 90, \"actions_count\": 19}, {\"success\": true, \"explored_states_cum\": 59, \"cum_reward\": 12.0, \"traffic_violations_count\": 0, \"simulation_round\": 91, \"actions_count\": 14}, {\"success\": true, \"explored_states_cum\": 59, \"cum_reward\": 16.0, \"traffic_violations_count\": 0, \"simulation_round\": 92, \"actions_count\": 20}, {\"success\": true, \"explored_states_cum\": 59, \"cum_reward\": 14.0, \"traffic_violations_count\": 0, \"simulation_round\": 93, \"actions_count\": 24}, {\"success\": true, \"explored_states_cum\": 60, \"cum_reward\": 10.0, \"traffic_violations_count\": 0, \"simulation_round\": 94, \"actions_count\": 9}, {\"success\": true, \"explored_states_cum\": 62, \"cum_reward\": 9.5, \"traffic_violations_count\": 0, \"simulation_round\": 95, \"actions_count\": 13}, {\"success\": true, \"explored_states_cum\": 62, \"cum_reward\": 6.0, \"traffic_violations_count\": 0, \"simulation_round\": 96, \"actions_count\": 3}, {\"success\": true, \"explored_states_cum\": 62, \"cum_reward\": 6.0, \"traffic_violations_count\": 0, \"simulation_round\": 97, \"actions_count\": 12}, {\"success\": true, \"explored_states_cum\": 62, \"cum_reward\": 8.0, \"traffic_violations_count\": 0, \"simulation_round\": 98, \"actions_count\": 5}, {\"success\": true, \"explored_states_cum\": 62, \"cum_reward\": 8.0, \"traffic_violations_count\": 0, \"simulation_round\": 99, \"actions_count\": 8}, {\"success\": true, \"explored_states_cum\": 62, \"cum_reward\": 5.0, \"traffic_violations_count\": 1, \"simulation_round\": 100, \"actions_count\": 3}]}, \"encoding\": {\"y\": {\"field\": \"explored_states_cum\", \"type\": \"quantitative\"}, \"x\": {\"field\": \"simulation_round\", \"type\": \"quantitative\"}}, \"config\": {\"cell\": {\"width\": 500, \"height\": 350}}, \"mark\": \"line\"};\n",
       "var selector = \"#b5604e31-9b06-4a94-a0fd-7b146bec34c1\";\n",
       "var type = \"vega-lite\";\n",
       "\n",
       "var output_area = this;\n",
       "require(['nbextensions/jupyter-vega/index'], function(vega) {\n",
       "  vega.render(selector, spec, type, output_area);\n",
       "}, function (err) {\n",
       "  if (err.requireType !== 'scripterror') {\n",
       "    throw(err);\n",
       "  }\n",
       "});\n"
      ]
     },
     "metadata": {
      "jupyter-vega": "#b5604e31-9b06-4a94-a0fd-7b146bec34c1"
     },
     "output_type": "display_data"
    },
    {
     "data": {
      "image/png": "[encoded data removed]"
     },
     "metadata": {
      "jupyter-vega": "#b5604e31-9b06-4a94-a0fd-7b146bec34c1"
     },
     "output_type": "display_data"
    }
   ],
   "source": [
    "from altair import Chart\n",
    "\n",
    "Chart(stats_tuned).mark_line().encode(\n",
    "    x= 'simulation_round',\n",
    "    y='explored_states_cum'\n",
    ")"
   ]
  },
  {
   "cell_type": "markdown",
   "metadata": {},
   "source": [
    "As expected abount round 10 onwards the number of explored states increses much slower that at the initial rounds. It seems that explored will stabilize around 60-65, but a test with more than 100 round simulations is needed to confirm this trend."
   ]
  },
  {
   "cell_type": "markdown",
   "metadata": {
    "collapsed": true
   },
   "source": [
    "Other important aspect is the the number of possible locations for the smartcab:\n",
    "\n",
    "![](images/grid.png)\n",
    "\n",
    "There are 48 possible locations (8 x 6 grid). In the simulation there are 4 smartcabs in total.\n",
    "\n",
    "This means that there are very few chances for our *QLearnAgent* to learn situations where the actions taken by the other cars are important to avoid traffic violations. So it will need many simulations to fully learn to avoid traffic violations, because will have few chances to learn correctly interact with other agents.\n",
    "\n",
    "Let's visualize the correlation between *simulation_rounds* and *traffic_violations_count*:"
   ]
  },
  {
   "cell_type": "code",
   "execution_count": 23,
   "metadata": {
    "collapsed": false
   },
   "outputs": [
    {
     "data": {
      "text/html": [
       "<div class=\"vega-embed\" id=\"955372c8-9f17-420c-a291-758a9d8738b0\"></div>\n",
       "\n",
       "<style>\n",
       ".vega-embed svg, .vega-embed canvas {\n",
       "  border: 1px dotted gray;\n",
       "}\n",
       "\n",
       ".vega-embed .vega-actions a {\n",
       "  margin-right: 6px;\n",
       "}\n",
       "</style>\n"
      ]
     },
     "metadata": {
      "jupyter-vega": "#955372c8-9f17-420c-a291-758a9d8738b0"
     },
     "output_type": "display_data"
    },
    {
     "data": {
      "application/javascript": [
       "var spec = {\"data\": {\"values\": [{\"success\": false, \"explored_states_cum\": 17, \"cum_reward\": -5.0, \"traffic_violations_count\": 10, \"simulation_round\": 1, \"actions_count\": 30}, {\"success\": false, \"explored_states_cum\": 21, \"cum_reward\": -8.0, \"traffic_violations_count\": 10, \"simulation_round\": 2, \"actions_count\": 20}, {\"success\": false, \"explored_states_cum\": 26, \"cum_reward\": -7.0, \"traffic_violations_count\": 11, \"simulation_round\": 3, \"actions_count\": 25}, {\"success\": false, \"explored_states_cum\": 30, \"cum_reward\": -11.5, \"traffic_violations_count\": 5, \"simulation_round\": 4, \"actions_count\": 45}, {\"success\": false, \"explored_states_cum\": 33, \"cum_reward\": -4.5, \"traffic_violations_count\": 6, \"simulation_round\": 5, \"actions_count\": 45}, {\"success\": false, \"explored_states_cum\": 33, \"cum_reward\": 0.0, \"traffic_violations_count\": 2, \"simulation_round\": 6, \"actions_count\": 20}, {\"success\": true, \"explored_states_cum\": 33, \"cum_reward\": -3.0, \"traffic_violations_count\": 5, \"simulation_round\": 7, \"actions_count\": 5}, {\"success\": false, \"explored_states_cum\": 33, \"cum_reward\": 2.0, \"traffic_violations_count\": 0, \"simulation_round\": 8, \"actions_count\": 30}, {\"success\": false, \"explored_states_cum\": 33, \"cum_reward\": 2.0, \"traffic_violations_count\": 6, \"simulation_round\": 9, \"actions_count\": 25}, {\"success\": true, \"explored_states_cum\": 35, \"cum_reward\": 13.5, \"traffic_violations_count\": 4, \"simulation_round\": 10, \"actions_count\": 18}, {\"success\": true, \"explored_states_cum\": 35, \"cum_reward\": 6.0, \"traffic_violations_count\": 0, \"simulation_round\": 11, \"actions_count\": 4}, {\"success\": true, \"explored_states_cum\": 40, \"cum_reward\": 3.0, \"traffic_violations_count\": 5, \"simulation_round\": 12, \"actions_count\": 10}, {\"success\": true, \"explored_states_cum\": 40, \"cum_reward\": -2.0, \"traffic_violations_count\": 8, \"simulation_round\": 13, \"actions_count\": 12}, {\"success\": true, \"explored_states_cum\": 40, \"cum_reward\": 10.0, \"traffic_violations_count\": 0, \"simulation_round\": 14, \"actions_count\": 15}, {\"success\": true, \"explored_states_cum\": 40, \"cum_reward\": 10.0, \"traffic_violations_count\": 0, \"simulation_round\": 15, \"actions_count\": 9}, {\"success\": true, \"explored_states_cum\": 41, \"cum_reward\": 11.0, \"traffic_violations_count\": 1, \"simulation_round\": 16, \"actions_count\": 26}, {\"success\": true, \"explored_states_cum\": 41, \"cum_reward\": 15.5, \"traffic_violations_count\": 0, \"simulation_round\": 17, \"actions_count\": 23}, {\"success\": true, \"explored_states_cum\": 41, \"cum_reward\": 6.0, \"traffic_violations_count\": 0, \"simulation_round\": 18, \"actions_count\": 6}, {\"success\": true, \"explored_states_cum\": 42, \"cum_reward\": 17.5, \"traffic_violations_count\": 4, \"simulation_round\": 19, \"actions_count\": 26}, {\"success\": true, \"explored_states_cum\": 42, \"cum_reward\": 10.0, \"traffic_violations_count\": 0, \"simulation_round\": 20, \"actions_count\": 17}, {\"success\": true, \"explored_states_cum\": 42, \"cum_reward\": 10.0, \"traffic_violations_count\": 0, \"simulation_round\": 21, \"actions_count\": 15}, {\"success\": true, \"explored_states_cum\": 42, \"cum_reward\": 10.0, \"traffic_violations_count\": 0, \"simulation_round\": 22, \"actions_count\": 9}, {\"success\": true, \"explored_states_cum\": 43, \"cum_reward\": 20.0, \"traffic_violations_count\": 0, \"simulation_round\": 23, \"actions_count\": 19}, {\"success\": true, \"explored_states_cum\": 43, \"cum_reward\": 18.0, \"traffic_violations_count\": 0, \"simulation_round\": 24, \"actions_count\": 15}, {\"success\": true, \"explored_states_cum\": 43, \"cum_reward\": 12.0, \"traffic_violations_count\": 0, \"simulation_round\": 25, \"actions_count\": 12}, {\"success\": true, \"explored_states_cum\": 44, \"cum_reward\": 8.0, \"traffic_violations_count\": 0, \"simulation_round\": 26, \"actions_count\": 3}, {\"success\": true, \"explored_states_cum\": 44, \"cum_reward\": 6.0, \"traffic_violations_count\": 0, \"simulation_round\": 27, \"actions_count\": 15}, {\"success\": true, \"explored_states_cum\": 44, \"cum_reward\": 8.0, \"traffic_violations_count\": 0, \"simulation_round\": 28, \"actions_count\": 19}, {\"success\": true, \"explored_states_cum\": 44, \"cum_reward\": 6.0, \"traffic_violations_count\": 0, \"simulation_round\": 29, \"actions_count\": 2}, {\"success\": true, \"explored_states_cum\": 44, \"cum_reward\": 6.0, \"traffic_violations_count\": 0, \"simulation_round\": 30, \"actions_count\": 10}, {\"success\": true, \"explored_states_cum\": 44, \"cum_reward\": 8.0, \"traffic_violations_count\": 0, \"simulation_round\": 31, \"actions_count\": 9}, {\"success\": true, \"explored_states_cum\": 44, \"cum_reward\": 6.0, \"traffic_violations_count\": 0, \"simulation_round\": 32, \"actions_count\": 9}, {\"success\": true, \"explored_states_cum\": 44, \"cum_reward\": 14.0, \"traffic_violations_count\": 0, \"simulation_round\": 33, \"actions_count\": 14}, {\"success\": true, \"explored_states_cum\": 44, \"cum_reward\": 10.0, \"traffic_violations_count\": 0, \"simulation_round\": 34, \"actions_count\": 15}, {\"success\": true, \"explored_states_cum\": 44, \"cum_reward\": 10.0, \"traffic_violations_count\": 0, \"simulation_round\": 35, \"actions_count\": 17}, {\"success\": true, \"explored_states_cum\": 45, \"cum_reward\": 12.0, \"traffic_violations_count\": 0, \"simulation_round\": 36, \"actions_count\": 14}, {\"success\": true, \"explored_states_cum\": 45, \"cum_reward\": 8.0, \"traffic_violations_count\": 0, \"simulation_round\": 37, \"actions_count\": 7}, {\"success\": true, \"explored_states_cum\": 45, \"cum_reward\": 16.0, \"traffic_violations_count\": 0, \"simulation_round\": 38, \"actions_count\": 17}, {\"success\": true, \"explored_states_cum\": 45, \"cum_reward\": 12.0, \"traffic_violations_count\": 0, \"simulation_round\": 39, \"actions_count\": 11}, {\"success\": true, \"explored_states_cum\": 45, \"cum_reward\": 12.0, \"traffic_violations_count\": 0, \"simulation_round\": 40, \"actions_count\": 10}, {\"success\": true, \"explored_states_cum\": 45, \"cum_reward\": 11.5, \"traffic_violations_count\": 0, \"simulation_round\": 41, \"actions_count\": 9}, {\"success\": true, \"explored_states_cum\": 45, \"cum_reward\": 10.0, \"traffic_violations_count\": 0, \"simulation_round\": 42, \"actions_count\": 9}, {\"success\": true, \"explored_states_cum\": 45, \"cum_reward\": 8.0, \"traffic_violations_count\": 0, \"simulation_round\": 43, \"actions_count\": 5}, {\"success\": true, \"explored_states_cum\": 46, \"cum_reward\": 12.0, \"traffic_violations_count\": 0, \"simulation_round\": 44, \"actions_count\": 8}, {\"success\": true, \"explored_states_cum\": 46, \"cum_reward\": 6.0, \"traffic_violations_count\": 0, \"simulation_round\": 45, \"actions_count\": 11}, {\"success\": true, \"explored_states_cum\": 46, \"cum_reward\": 14.0, \"traffic_violations_count\": 0, \"simulation_round\": 46, \"actions_count\": 23}, {\"success\": true, \"explored_states_cum\": 46, \"cum_reward\": 12.0, \"traffic_violations_count\": 0, \"simulation_round\": 47, \"actions_count\": 14}, {\"success\": true, \"explored_states_cum\": 46, \"cum_reward\": 10.0, \"traffic_violations_count\": 0, \"simulation_round\": 48, \"actions_count\": 9}, {\"success\": true, \"explored_states_cum\": 47, \"cum_reward\": 9.0, \"traffic_violations_count\": 1, \"simulation_round\": 49, \"actions_count\": 15}, {\"success\": true, \"explored_states_cum\": 47, \"cum_reward\": 10.0, \"traffic_violations_count\": 0, \"simulation_round\": 50, \"actions_count\": 9}, {\"success\": true, \"explored_states_cum\": 47, \"cum_reward\": 6.0, \"traffic_violations_count\": 0, \"simulation_round\": 51, \"actions_count\": 6}, {\"success\": true, \"explored_states_cum\": 48, \"cum_reward\": 7.0, \"traffic_violations_count\": 1, \"simulation_round\": 52, \"actions_count\": 13}, {\"success\": true, \"explored_states_cum\": 48, \"cum_reward\": 9.5, \"traffic_violations_count\": 0, \"simulation_round\": 53, \"actions_count\": 10}, {\"success\": true, \"explored_states_cum\": 50, \"cum_reward\": 23.0, \"traffic_violations_count\": 0, \"simulation_round\": 54, \"actions_count\": 34}, {\"success\": true, \"explored_states_cum\": 50, \"cum_reward\": 8.0, \"traffic_violations_count\": 0, \"simulation_round\": 55, \"actions_count\": 9}, {\"success\": true, \"explored_states_cum\": 51, \"cum_reward\": 13.5, \"traffic_violations_count\": 0, \"simulation_round\": 56, \"actions_count\": 14}, {\"success\": true, \"explored_states_cum\": 51, \"cum_reward\": 10.0, \"traffic_violations_count\": 0, \"simulation_round\": 57, \"actions_count\": 12}, {\"success\": true, \"explored_states_cum\": 52, \"cum_reward\": 14.5, \"traffic_violations_count\": 1, \"simulation_round\": 58, \"actions_count\": 23}, {\"success\": true, \"explored_states_cum\": 52, \"cum_reward\": 6.0, \"traffic_violations_count\": 0, \"simulation_round\": 59, \"actions_count\": 7}, {\"success\": true, \"explored_states_cum\": 52, \"cum_reward\": 6.0, \"traffic_violations_count\": 0, \"simulation_round\": 60, \"actions_count\": 11}, {\"success\": true, \"explored_states_cum\": 52, \"cum_reward\": 18.0, \"traffic_violations_count\": 0, \"simulation_round\": 61, \"actions_count\": 15}, {\"success\": true, \"explored_states_cum\": 53, \"cum_reward\": 9.5, \"traffic_violations_count\": 0, \"simulation_round\": 62, \"actions_count\": 14}, {\"success\": true, \"explored_states_cum\": 54, \"cum_reward\": 5.5, \"traffic_violations_count\": 0, \"simulation_round\": 63, \"actions_count\": 7}, {\"success\": true, \"explored_states_cum\": 56, \"cum_reward\": 7.0, \"traffic_violations_count\": 1, \"simulation_round\": 64, \"actions_count\": 19}, {\"success\": true, \"explored_states_cum\": 56, \"cum_reward\": 13.5, \"traffic_violations_count\": 2, \"simulation_round\": 65, \"actions_count\": 26}, {\"success\": true, \"explored_states_cum\": 56, \"cum_reward\": 8.0, \"traffic_violations_count\": 0, \"simulation_round\": 66, \"actions_count\": 15}, {\"success\": true, \"explored_states_cum\": 56, \"cum_reward\": 6.0, \"traffic_violations_count\": 0, \"simulation_round\": 67, \"actions_count\": 12}, {\"success\": true, \"explored_states_cum\": 56, \"cum_reward\": 12.0, \"traffic_violations_count\": 0, \"simulation_round\": 68, \"actions_count\": 23}, {\"success\": true, \"explored_states_cum\": 56, \"cum_reward\": 11.0, \"traffic_violations_count\": 1, \"simulation_round\": 69, \"actions_count\": 15}, {\"success\": true, \"explored_states_cum\": 56, \"cum_reward\": 6.0, \"traffic_violations_count\": 0, \"simulation_round\": 70, \"actions_count\": 12}, {\"success\": true, \"explored_states_cum\": 56, \"cum_reward\": 10.0, \"traffic_violations_count\": 0, \"simulation_round\": 71, \"actions_count\": 9}, {\"success\": true, \"explored_states_cum\": 56, \"cum_reward\": 9.5, \"traffic_violations_count\": 0, \"simulation_round\": 72, \"actions_count\": 15}, {\"success\": true, \"explored_states_cum\": 57, \"cum_reward\": 10.0, \"traffic_violations_count\": 0, \"simulation_round\": 73, \"actions_count\": 11}, {\"success\": true, \"explored_states_cum\": 57, \"cum_reward\": 10.0, \"traffic_violations_count\": 0, \"simulation_round\": 74, \"actions_count\": 14}, {\"success\": true, \"explored_states_cum\": 57, \"cum_reward\": 8.0, \"traffic_violations_count\": 0, \"simulation_round\": 75, \"actions_count\": 8}, {\"success\": true, \"explored_states_cum\": 57, \"cum_reward\": 7.5, \"traffic_violations_count\": 0, \"simulation_round\": 76, \"actions_count\": 4}, {\"success\": true, \"explored_states_cum\": 57, \"cum_reward\": 10.0, \"traffic_violations_count\": 0, \"simulation_round\": 77, \"actions_count\": 11}, {\"success\": true, \"explored_states_cum\": 57, \"cum_reward\": 14.0, \"traffic_violations_count\": 0, \"simulation_round\": 78, \"actions_count\": 14}, {\"success\": true, \"explored_states_cum\": 57, \"cum_reward\": 8.0, \"traffic_violations_count\": 0, \"simulation_round\": 79, \"actions_count\": 17}, {\"success\": true, \"explored_states_cum\": 57, \"cum_reward\": 10.0, \"traffic_violations_count\": 0, \"simulation_round\": 80, \"actions_count\": 19}, {\"success\": true, \"explored_states_cum\": 57, \"cum_reward\": 8.0, \"traffic_violations_count\": 0, \"simulation_round\": 81, \"actions_count\": 6}, {\"success\": true, \"explored_states_cum\": 57, \"cum_reward\": 6.0, \"traffic_violations_count\": 0, \"simulation_round\": 82, \"actions_count\": 11}, {\"success\": true, \"explored_states_cum\": 59, \"cum_reward\": 8.0, \"traffic_violations_count\": 0, \"simulation_round\": 83, \"actions_count\": 15}, {\"success\": true, \"explored_states_cum\": 59, \"cum_reward\": 16.0, \"traffic_violations_count\": 0, \"simulation_round\": 84, \"actions_count\": 11}, {\"success\": true, \"explored_states_cum\": 59, \"cum_reward\": 15.5, \"traffic_violations_count\": 0, \"simulation_round\": 85, \"actions_count\": 22}, {\"success\": true, \"explored_states_cum\": 59, \"cum_reward\": 16.0, \"traffic_violations_count\": 0, \"simulation_round\": 86, \"actions_count\": 13}, {\"success\": true, \"explored_states_cum\": 59, \"cum_reward\": 11.5, \"traffic_violations_count\": 0, \"simulation_round\": 87, \"actions_count\": 17}, {\"success\": true, \"explored_states_cum\": 59, \"cum_reward\": 16.0, \"traffic_violations_count\": 0, \"simulation_round\": 88, \"actions_count\": 15}, {\"success\": true, \"explored_states_cum\": 59, \"cum_reward\": 14.0, \"traffic_violations_count\": 0, \"simulation_round\": 89, \"actions_count\": 24}, {\"success\": true, \"explored_states_cum\": 59, \"cum_reward\": 18.0, \"traffic_violations_count\": 0, \"simulation_round\": 90, \"actions_count\": 19}, {\"success\": true, \"explored_states_cum\": 59, \"cum_reward\": 12.0, \"traffic_violations_count\": 0, \"simulation_round\": 91, \"actions_count\": 14}, {\"success\": true, \"explored_states_cum\": 59, \"cum_reward\": 16.0, \"traffic_violations_count\": 0, \"simulation_round\": 92, \"actions_count\": 20}, {\"success\": true, \"explored_states_cum\": 59, \"cum_reward\": 14.0, \"traffic_violations_count\": 0, \"simulation_round\": 93, \"actions_count\": 24}, {\"success\": true, \"explored_states_cum\": 60, \"cum_reward\": 10.0, \"traffic_violations_count\": 0, \"simulation_round\": 94, \"actions_count\": 9}, {\"success\": true, \"explored_states_cum\": 62, \"cum_reward\": 9.5, \"traffic_violations_count\": 0, \"simulation_round\": 95, \"actions_count\": 13}, {\"success\": true, \"explored_states_cum\": 62, \"cum_reward\": 6.0, \"traffic_violations_count\": 0, \"simulation_round\": 96, \"actions_count\": 3}, {\"success\": true, \"explored_states_cum\": 62, \"cum_reward\": 6.0, \"traffic_violations_count\": 0, \"simulation_round\": 97, \"actions_count\": 12}, {\"success\": true, \"explored_states_cum\": 62, \"cum_reward\": 8.0, \"traffic_violations_count\": 0, \"simulation_round\": 98, \"actions_count\": 5}, {\"success\": true, \"explored_states_cum\": 62, \"cum_reward\": 8.0, \"traffic_violations_count\": 0, \"simulation_round\": 99, \"actions_count\": 8}, {\"success\": true, \"explored_states_cum\": 62, \"cum_reward\": 5.0, \"traffic_violations_count\": 1, \"simulation_round\": 100, \"actions_count\": 3}]}, \"encoding\": {\"y\": {\"field\": \"traffic_violations_count\", \"type\": \"quantitative\"}, \"x\": {\"field\": \"simulation_round\", \"type\": \"quantitative\"}}, \"config\": {\"cell\": {\"width\": 500, \"height\": 350}}, \"mark\": \"line\"};\n",
       "var selector = \"#955372c8-9f17-420c-a291-758a9d8738b0\";\n",
       "var type = \"vega-lite\";\n",
       "\n",
       "var output_area = this;\n",
       "require(['nbextensions/jupyter-vega/index'], function(vega) {\n",
       "  vega.render(selector, spec, type, output_area);\n",
       "}, function (err) {\n",
       "  if (err.requireType !== 'scripterror') {\n",
       "    throw(err);\n",
       "  }\n",
       "});\n"
      ]
     },
     "metadata": {
      "jupyter-vega": "#955372c8-9f17-420c-a291-758a9d8738b0"
     },
     "output_type": "display_data"
    },
    {
     "data": {
      "image/png": "[encoded data removed]"
     },
     "metadata": {
      "jupyter-vega": "#955372c8-9f17-420c-a291-758a9d8738b0"
     },
     "output_type": "display_data"
    }
   ],
   "source": [
    "from altair import Chart\n",
    "\n",
    "Chart(stats_tuned).mark_line().encode(\n",
    "    x= 'simulation_round',\n",
    "    y= 'traffic_violations_count'\n",
    ")"
   ]
  },
  {
   "cell_type": "markdown",
   "metadata": {},
   "source": [
    "As expected we can see that about round 60, the *QLearnAgent* still incurs on some traffic violations.\n",
    "\n",
    "The *alpha_rate=0.5* determines that the new learned value will influence on half of his value the old value. "
   ]
  },
  {
   "cell_type": "markdown",
   "metadata": {},
   "source": [
    "<h4>4.4.1. Analysis of first steps of q-learning agent</h4>\n",
    "\n",
    "[TODO]"
   ]
  },
  {
   "cell_type": "markdown",
   "metadata": {},
   "source": [
    "<h4>4.4.2. Analysis of the last steps of q-learning agent</h4>\n",
    "\n",
    "[TODO]"
   ]
  },
  {
   "cell_type": "markdown",
   "metadata": {},
   "source": [
    "<h3>5. n=300</h3>"
   ]
  },
  {
   "cell_type": "markdown",
   "metadata": {},
   "source": [
    "I suspect that with a larger number of simulations (more chances to learn), a **more exploratory** *QLearnerAgent* will perform better than our previous **conservative** agent.\n",
    "\n",
    "The reason is, that as stated previously, is difficult for the agent to interact with other agents. With only 100 simulations, the more conservative agent will get better "
   ]
  },
  {
   "cell_type": "code",
   "execution_count": 24,
   "metadata": {
    "collapsed": true
   },
   "outputs": [],
   "source": [
    "grid_n_300 = pd.read_csv(\"smartcab/qlearn_agent_tuning_n300.csv\", index_col=0)"
   ]
  },
  {
   "cell_type": "code",
   "execution_count": 26,
   "metadata": {
    "collapsed": false
   },
   "outputs": [
    {
     "data": {
      "text/html": [
       "<div>\n",
       "<table border=\"1\" class=\"dataframe\">\n",
       "  <thead>\n",
       "    <tr style=\"text-align: right;\">\n",
       "      <th></th>\n",
       "      <th>q_init_value</th>\n",
       "      <th>alpha_rate</th>\n",
       "      <th>epsilon_rate</th>\n",
       "      <th>gamma_rate</th>\n",
       "      <th>success_perc</th>\n",
       "      <th>traffic_violations_avg</th>\n",
       "      <th>explored_states_avg</th>\n",
       "      <th>reward_cum_avg</th>\n",
       "      <th>actions_avg</th>\n",
       "    </tr>\n",
       "  </thead>\n",
       "  <tbody>\n",
       "    <tr>\n",
       "      <th>36</th>\n",
       "      <td>5.0</td>\n",
       "      <td>0.5</td>\n",
       "      <td>0.0</td>\n",
       "      <td>0.0</td>\n",
       "      <td>100.0</td>\n",
       "      <td>0.1</td>\n",
       "      <td>182.5</td>\n",
       "      <td>12.30</td>\n",
       "      <td>14.5</td>\n",
       "    </tr>\n",
       "    <tr>\n",
       "      <th>37</th>\n",
       "      <td>5.0</td>\n",
       "      <td>0.5</td>\n",
       "      <td>0.0</td>\n",
       "      <td>0.5</td>\n",
       "      <td>100.0</td>\n",
       "      <td>0.2</td>\n",
       "      <td>127.8</td>\n",
       "      <td>9.55</td>\n",
       "      <td>11.8</td>\n",
       "    </tr>\n",
       "  </tbody>\n",
       "</table>\n",
       "</div>"
      ],
      "text/plain": [
       "    q_init_value  alpha_rate  epsilon_rate  gamma_rate  success_perc  \\\n",
       "36           5.0         0.5           0.0         0.0         100.0   \n",
       "37           5.0         0.5           0.0         0.5         100.0   \n",
       "\n",
       "    traffic_violations_avg  explored_states_avg  reward_cum_avg  actions_avg  \n",
       "36                     0.1                182.5           12.30         14.5  \n",
       "37                     0.2                127.8            9.55         11.8  "
      ]
     },
     "execution_count": 26,
     "metadata": {},
     "output_type": "execute_result"
    }
   ],
   "source": [
    "grid_n_300_subset = grid_n_300[(grid_n_300['traffic_violations_avg'] <= 1) & (grid_n_300['success_perc'] >= 90)]\n",
    "grid_n_300_subset.head()"
   ]
  },
  {
   "cell_type": "code",
   "execution_count": null,
   "metadata": {
    "collapsed": true
   },
   "outputs": [],
   "source": []
  }
 ],
 "metadata": {
  "anaconda-cloud": {},
  "kernelspec": {
   "display_name": "Python [default]",
   "language": "python",
   "name": "python2"
  },
  "language_info": {
   "codemirror_mode": {
    "name": "ipython",
    "version": 2
   },
   "file_extension": ".py",
   "mimetype": "text/x-python",
   "name": "python",
   "nbconvert_exporter": "python",
   "pygments_lexer": "ipython2",
   "version": "2.7.12"
  }
 },
 "nbformat": 4,
 "nbformat_minor": 0
}
