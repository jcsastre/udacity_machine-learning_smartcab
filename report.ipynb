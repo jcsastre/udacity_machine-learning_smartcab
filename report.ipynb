{
 "cells": [
  {
   "cell_type": "markdown",
   "metadata": {
    "collapsed": true
   },
   "source": [
    "<h1>Self-Driving Agent Report</h1>\n",
    "\n",
    "<h2>1. Implementation of a Basic Driving Agent</h2>\n",
    "\n",
    "As starting task, we will move the smartcab around the environment using a random approach. The set of possible actions will be: None, forward, left, right. The deadline will be set to false, but this doesn't mean that smartcab has an infinite number of moves as can see on code of the file **smartcab/environment.py** (but will increase a lot the number of moves available).\n",
    "\n",
    "The code corresponding to this agent can be found on the class **RandomAgent** at the file **smartcab/agents.py**.\n",
    "\n",
    "Observations from simulation:\n",
    "\n",
    "1. Normally the smartcab action is not optimal, but normally reaches the destination because has a lot of moves available to reach the destination.\n",
    "2. The environment  doesn't allow any agent to execute and action that violates traffic rules, but a strong negative reward is applied.\n",
    "\n",
    "<h2>2. Inform the Driving Agent</h2>\n",
    "\n",
    "The next task  is to identify a set of states that are appropriate for modeling the smartcab and environment. \n",
    "\n",
    "All the information we receive come from the environment and the planner.\n",
    "\n",
    "Sensing the environment provide us with these inputs:\n",
    "\n",
    "- light:\n",
    "    - Possible values: Red / Green\n",
    "- oncoming:\n",
    "    - Possible values: None / Forward / Right / Left\n",
    "    - Indicates if there is a car oncoming and the action wants to execute.\n",
    "- right:\n",
    "    - Possible values: None / Forward / Right / Left\n",
    "    - Indicates if there is a car approaching from the right oncoming and \n",
    "    the action wants to execute.\n",
    "- left:\n",
    "    - Possible values: None / Forward / Right / Left\n",
    "    - Indicates if there is a car approaching from the left oncoming and \n",
    "    the action wants to execute.\n",
    "\n",
    "Also from the environment we can obtain the deadline, that is the number of remaining moves to reach the destination.\n",
    "\n",
    "The planner provides next_waypoint, with these possible values: Forward, Right and Left.\n",
    "\n",
    "For representing the state we will use: **next_waypoint**, **light**, **oncoming**, **right** and **left**.\n",
    "\n",
    "Having in mind we use *next_waypoint*, is not very useful to also use *deadline*. Also *deadline* will increase considerably the number of possible states, and would penalize the Q-Learning implementation.\n",
    "\n",
    "The information from *light*, *oncoming*, *right* and *left* can help Q-Learning to avoid traffic violations. The information from *next_waypoint* can help Q-Learning to reach the destination as soon as possible.\n",
    " \n",
    "Having in mind the properties used for the state, and possible values for each of these, the total number of different states are: 3 x 2 x 4 x 4 x 4. This means a total of 384 states at a given time.\n",
    "\n",
    "<h2>3. Implement a Q-Learning Driving Agent</h2>\n",
    "\n",
    "The third task is to implement the Q-Learning algorithm for the driving agent. The code corresponding to this agent can be found on the class **QLearningAgent** at the file **smartcab/agents.py**.\n",
    "\n",
    "The core of the algorithm is a simple value iteration update. It assumes the old value and makes a correction based on the new information (Source: [Wikipedia](https://en.wikipedia.org/wiki/Q-learning)):\n",
    "\n",
    "![](images/qlearn.png)\n",
    "\n",
    "Before proceeding to the simulation, the values for three important constants should be assigned:\n",
    "- **alpha_rate (α)** or **learning rate**: Determines to what extent the newly acquired information will override the old information.\n",
    "- **epsilon_rate (ε)** or **exploration rate**: Determines when to explore or when to exploit the already learn information.\n",
    "- **gamma rate (γ)** or **discount factor**: Determines the importance of future rewards.\n",
    "\n",
    "We will execute 100 simulations with enforce_deadline to True, with these values: **alpha_rate = 0.9**, **epsilon_rate = 0.1**, **gamma rate = 0.5**.\n",
    "\n",
    "Some code to produce some plots has been added.\n",
    "\n",
    "First let's analyze a scatter plot that correlates number of simulations executed (iterations) with size of the Q matrix:\n",
    "\n",
    "![](plots/qlearner_1_scatter_iterations_q-size.png)\n",
    "\n",
    "As we can see in the plot, as simulations are executed the number of values in Q matrix increases.\n",
    "\n",
    "Now let's analyze a scatter plot that correlates number of iterations with accumulated reward for each of the iterations:\n",
    "\n",
    "![](plots/qlearner_1_scatter_iterations_cum-reward.png)\n",
    "\n",
    "We don't see that as the number of iterations increase the agent gets better accumulated rewards. Maybe the assigned values for the constants were poorly chosen.\n",
    "\n",
    "Now let's see the number of times q-learner agent has achieved the destination:\n",
    "- Success: 21 times\n",
    "- Fail: 79 times\n",
    "\n",
    "In the first section of this report we saw that the random agent normally was successfully, but we must consider that the deadline was set to false. To make a fairer comparison, lets compare with a random agent with deadline set to true.\n",
    "\n",
    "Let's see the number of times random agent has achieved the destination:\n",
    "- Success: 16 times\n",
    "- Fail: 84 times\n",
    "\n",
    "There is not too much difference between the success ratio of the *RandomAgent* and the *QLearningAgent*. As said previously maybe the values for the constants were poorly chosen. Other options are that perform 100 simulations are not enough for the \n",
    "*QLearningAgent*, or maybe the q-learn algorithm is bad implemented."
   ]
  },
  {
   "cell_type": "markdown",
   "metadata": {},
   "source": [
    "<h2>4. Improve the Q-Learning Driving Agent</h2>\n",
    "\n",
    "Now let's tune the values for the **learning rate (alpha)**, **the discount factor (gamma)** and the **exploration rate (epsilon)**. \n",
    "\n",
    "We will perform many simulations with many combinations of these parameters, and the we will report the results to see what \n",
    "is the best combination. The correspoding code used to generate this data can be found on **smartcab/main_qlearn_agent_tuning.py**.\n",
    "\n",
    "The results of the simulations will be stored on a csv file, that we will analyze:"
   ]
  },
  {
   "cell_type": "code",
   "execution_count": 8,
   "metadata": {
    "collapsed": false
   },
   "outputs": [
    {
     "data": {
      "text/html": [
       "<div>\n",
       "<table border=\"1\" class=\"dataframe\">\n",
       "  <thead>\n",
       "    <tr style=\"text-align: right;\">\n",
       "      <th></th>\n",
       "      <th>Unnamed: 0</th>\n",
       "      <th>alpha_rate</th>\n",
       "      <th>epsilon_rate</th>\n",
       "      <th>gamma_rate</th>\n",
       "      <th>successPerc</th>\n",
       "      <th>actionsAvg</th>\n",
       "      <th>cumRewardAvg</th>\n",
       "    </tr>\n",
       "  </thead>\n",
       "  <tbody>\n",
       "    <tr>\n",
       "      <th>count</th>\n",
       "      <td>1000.000000</td>\n",
       "      <td>1000.000000</td>\n",
       "      <td>1000.000000</td>\n",
       "      <td>1000.000000</td>\n",
       "      <td>1000.000000</td>\n",
       "      <td>1000.000000</td>\n",
       "      <td>1000.000000</td>\n",
       "    </tr>\n",
       "    <tr>\n",
       "      <th>mean</th>\n",
       "      <td>499.500000</td>\n",
       "      <td>0.500000</td>\n",
       "      <td>0.500000</td>\n",
       "      <td>0.500000</td>\n",
       "      <td>21.585000</td>\n",
       "      <td>26.762000</td>\n",
       "      <td>-1.201770</td>\n",
       "    </tr>\n",
       "    <tr>\n",
       "      <th>std</th>\n",
       "      <td>288.819436</td>\n",
       "      <td>0.319302</td>\n",
       "      <td>0.319302</td>\n",
       "      <td>0.319302</td>\n",
       "      <td>11.008268</td>\n",
       "      <td>1.983252</td>\n",
       "      <td>3.540282</td>\n",
       "    </tr>\n",
       "    <tr>\n",
       "      <th>min</th>\n",
       "      <td>0.000000</td>\n",
       "      <td>0.000000</td>\n",
       "      <td>0.000000</td>\n",
       "      <td>0.000000</td>\n",
       "      <td>0.000000</td>\n",
       "      <td>13.000000</td>\n",
       "      <td>-15.305000</td>\n",
       "    </tr>\n",
       "    <tr>\n",
       "      <th>25%</th>\n",
       "      <td>249.750000</td>\n",
       "      <td>0.222222</td>\n",
       "      <td>0.222222</td>\n",
       "      <td>0.222222</td>\n",
       "      <td>16.000000</td>\n",
       "      <td>26.000000</td>\n",
       "      <td>-2.835000</td>\n",
       "    </tr>\n",
       "    <tr>\n",
       "      <th>50%</th>\n",
       "      <td>499.500000</td>\n",
       "      <td>0.500000</td>\n",
       "      <td>0.500000</td>\n",
       "      <td>0.500000</td>\n",
       "      <td>20.000000</td>\n",
       "      <td>27.000000</td>\n",
       "      <td>-2.142500</td>\n",
       "    </tr>\n",
       "    <tr>\n",
       "      <th>75%</th>\n",
       "      <td>749.250000</td>\n",
       "      <td>0.777778</td>\n",
       "      <td>0.777778</td>\n",
       "      <td>0.777778</td>\n",
       "      <td>24.000000</td>\n",
       "      <td>28.000000</td>\n",
       "      <td>-0.788750</td>\n",
       "    </tr>\n",
       "    <tr>\n",
       "      <th>max</th>\n",
       "      <td>999.000000</td>\n",
       "      <td>1.000000</td>\n",
       "      <td>1.000000</td>\n",
       "      <td>1.000000</td>\n",
       "      <td>97.000000</td>\n",
       "      <td>31.000000</td>\n",
       "      <td>22.350000</td>\n",
       "    </tr>\n",
       "  </tbody>\n",
       "</table>\n",
       "</div>"
      ],
      "text/plain": [
       "        Unnamed: 0   alpha_rate  epsilon_rate   gamma_rate  successPerc  \\\n",
       "count  1000.000000  1000.000000   1000.000000  1000.000000  1000.000000   \n",
       "mean    499.500000     0.500000      0.500000     0.500000    21.585000   \n",
       "std     288.819436     0.319302      0.319302     0.319302    11.008268   \n",
       "min       0.000000     0.000000      0.000000     0.000000     0.000000   \n",
       "25%     249.750000     0.222222      0.222222     0.222222    16.000000   \n",
       "50%     499.500000     0.500000      0.500000     0.500000    20.000000   \n",
       "75%     749.250000     0.777778      0.777778     0.777778    24.000000   \n",
       "max     999.000000     1.000000      1.000000     1.000000    97.000000   \n",
       "\n",
       "        actionsAvg  cumRewardAvg  \n",
       "count  1000.000000   1000.000000  \n",
       "mean     26.762000     -1.201770  \n",
       "std       1.983252      3.540282  \n",
       "min      13.000000    -15.305000  \n",
       "25%      26.000000     -2.835000  \n",
       "50%      27.000000     -2.142500  \n",
       "75%      28.000000     -0.788750  \n",
       "max      31.000000     22.350000  "
      ]
     },
     "execution_count": 8,
     "metadata": {},
     "output_type": "execute_result"
    }
   ],
   "source": [
    "import pandas as pd\n",
    "\n",
    "tuning_data = pd.read_csv(\"smartcab/qlearn_agent_tuning_results.csv\")\n",
    "tuning_data.describe()"
   ]
  },
  {
   "cell_type": "markdown",
   "metadata": {},
   "source": [
    "To determine a suitable set of parameters, lets find: the q-agent with maximum success percentage, the q-agent with minimum actions taken average, and the q-agent with maximum accumulated reward average.\n",
    "\n",
    "<h4>Q-Agent with maximum success percentage</h4>"
   ]
  },
  {
   "cell_type": "code",
   "execution_count": 9,
   "metadata": {
    "collapsed": false
   },
   "outputs": [
    {
     "data": {
      "text/plain": [
       "Unnamed: 0      506.000000\n",
       "alpha_rate        0.555556\n",
       "epsilon_rate      0.000000\n",
       "gamma_rate        0.666667\n",
       "successPerc      97.000000\n",
       "actionsAvg       14.000000\n",
       "cumRewardAvg      9.820000\n",
       "Name: 506, dtype: float64"
      ]
     },
     "execution_count": 9,
     "metadata": {},
     "output_type": "execute_result"
    }
   ],
   "source": [
    "tuning_data.loc[tuning_data['successPerc'].idxmax()]"
   ]
  },
  {
   "cell_type": "markdown",
   "metadata": {},
   "source": [
    "This agent achieved a 97% success percentage. This is really a good percentage, so we can discard a bad implementation of the Q algorithm. It seems I selected bad values for the parameters in the previous section.\n",
    "\n",
    "Let's name this agent **SuccessAgent**."
   ]
  },
  {
   "cell_type": "markdown",
   "metadata": {},
   "source": [
    "<h4>Q-Agent minimum actions taken average</h4>"
   ]
  },
  {
   "cell_type": "code",
   "execution_count": 10,
   "metadata": {
    "collapsed": false
   },
   "outputs": [
    {
     "data": {
      "text/plain": [
       "Unnamed: 0      703.000000\n",
       "alpha_rate        0.777778\n",
       "epsilon_rate      0.000000\n",
       "gamma_rate        0.333333\n",
       "successPerc      95.000000\n",
       "actionsAvg       13.000000\n",
       "cumRewardAvg      8.870000\n",
       "Name: 703, dtype: float64"
      ]
     },
     "execution_count": 10,
     "metadata": {},
     "output_type": "execute_result"
    }
   ],
   "source": [
    "tuning_data.loc[tuning_data['actionsAvg'].idxmin()]"
   ]
  },
  {
   "cell_type": "markdown",
   "metadata": {},
   "source": [
    "This agent has an average of 13.000 actions taken.\n",
    "\n",
    "Let's name this agent **ActionsAgent**."
   ]
  },
  {
   "cell_type": "markdown",
   "metadata": {},
   "source": [
    "<h4>Q-Agent maximum accumulated reward average</h4>"
   ]
  },
  {
   "cell_type": "code",
   "execution_count": 11,
   "metadata": {
    "collapsed": false
   },
   "outputs": [
    {
     "data": {
      "text/plain": [
       "Unnamed: 0      103.000000\n",
       "alpha_rate        0.111111\n",
       "epsilon_rate      0.000000\n",
       "gamma_rate        0.333333\n",
       "successPerc      31.000000\n",
       "actionsAvg       25.000000\n",
       "cumRewardAvg     22.350000\n",
       "Name: 103, dtype: float64"
      ]
     },
     "execution_count": 11,
     "metadata": {},
     "output_type": "execute_result"
    }
   ],
   "source": [
    "tuning_data.loc[tuning_data['cumRewardAvg'].idxmax()]"
   ]
  },
  {
   "cell_type": "markdown",
   "metadata": {},
   "source": [
    "This agent has an average of 22.350 accumulated reward.\n",
    "\n",
    "Let's name this agent **RewardAgent**."
   ]
  },
  {
   "cell_type": "markdown",
   "metadata": {},
   "source": [
    "<h4>And the winner is...</h4>\n",
    "\n",
    "The **RewardAgent** has a poor success percentage so let's discard it.\n",
    "\n",
    "The difference between **SuccessAgent** and **ActionsAgent** is minimal. But the **SuccessAgent** has a slightly better accumulated reward average. So I will choose **SuccessAgent** as the winner.\n",
    "\n",
    "The parameter values for **SuccessAgent** are: **alpha_rate = 0.555556**, **epsilon_rate = 0.000000**, **gamma rate = 0.666667**."
   ]
  }
 ],
 "metadata": {
  "anaconda-cloud": {},
  "kernelspec": {
   "display_name": "Python [default]",
   "language": "python",
   "name": "python2"
  },
  "language_info": {
   "codemirror_mode": {
    "name": "ipython",
    "version": 2
   },
   "file_extension": ".py",
   "mimetype": "text/x-python",
   "name": "python",
   "nbconvert_exporter": "python",
   "pygments_lexer": "ipython2",
   "version": "2.7.12"
  }
 },
 "nbformat": 4,
 "nbformat_minor": 0
}
