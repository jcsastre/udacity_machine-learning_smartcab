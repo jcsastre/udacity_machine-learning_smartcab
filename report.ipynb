{
 "cells": [
  {
   "cell_type": "markdown",
   "metadata": {
    "collapsed": true
   },
   "source": [
    "# Self-Driving Agent Report"
   ]
  },
  {
   "cell_type": "markdown",
   "metadata": {},
   "source": [
    "## 1. Implementation of a Basic Driving Agent\n",
    "\n",
    "As starting task, we will move the smartcab around the environment using a random approach. The set of possible actions will be: None, forward, left, right. The deadline will be set to false, but this doesn't mean that smartcab has an infinite number of moves as can see on code of the file **smartcab/environment.py** (but will increase a lot the number of moves available).\n",
    "\n",
    "Observations from simulation:\n",
    "\n",
    "1. Normally the smartcab action is not optimal, but normally reaches the destination because has a lot of moves available to reach the destination.\n",
    "2. The environment  doesn't allow any agent to execute and action that violates traffic rules, but a strong negative reward is applied."
   ]
  },
  {
   "cell_type": "markdown",
   "metadata": {},
   "source": [
    "## 2. Inform the Driving Agent\n",
    "\n",
    "The next task  is to identify a set of states that are appropriate for modeling the smartcab and environment. \n",
    "\n",
    "All the information we receive come from the environment and the planner.\n",
    "\n",
    "Sensing the environment provide us with these inputs:\n",
    "\n",
    "- light:\n",
    "    - Possible values: Red / Green\n",
    "- oncoming:\n",
    "    - Possible values: None / Forward / Right / Left\n",
    "    - Indicates if there is a car oncoming and the action wants to execute.\n",
    "- right:\n",
    "    - Possible values: None / Forward / Right / Left\n",
    "    - Indicates if there is a car approaching from the right oncoming and \n",
    "    the action wants to execute.\n",
    "- left:\n",
    "    - Possible values: None / Forward / Right / Left\n",
    "    - Indicates if there is a car approaching from the left oncoming and \n",
    "    the action wants to execute.\n",
    "\n",
    "Also from the environment we can obtain the deadline, that is the number of remaining moves to reach the destination.\n",
    "\n",
    "The planner provides next_waypoint, with these possible values: Forward, Right and Left.\n",
    "\n",
    "For representing the state we will use: **next_waypoint**, **light**, **oncoming**, **right** and **left**.\n",
    "\n",
    "Having in mind we use *next_waypoint*, is not very useful to also use *deadline*. Also *deadline* will increase considerably the number of possible states, and would penalize the Q-Learning implementation.\n",
    "\n",
    "The information from *light*, *oncoming*, *right* and *left* can help Q-Learning to avoid traffic violations. The information from *next_waypoint* can help Q-Learning to reach the destination as soon as possible.\n",
    " \n",
    "Having in mind the properties used for the state, and possible values for each of these, the total number of different states are: 3 x 2 x 4 x 4 x 4. This means a total of 384 states at a given time."
   ]
  },
  {
   "cell_type": "markdown",
   "metadata": {},
   "source": [
    "## 3. Implement a Q-Learning Driving Agent\n",
    "\n",
    "The third task is to implement the Q-Learning algorithm for the driving agent. The core of the algorithm is a simple value iteration update. It assumes the old value and makes a correction based on the new information (Source: [Wikipedia](https://en.wikipedia.org/wiki/Q-learning)):\n",
    "\n",
    "![](images/qlearn.png)\n",
    "\n",
    "Before proceeding to the simulation, some parameter values should be set.\n",
    "\n",
    "In the formula shown above, two contants can be seen:\n",
    "- **alpha_rate (α)** or **learning rate**: Determines to what extent the newly acquired information will override the old information.\n",
    "- **gamma rate (γ)** or **discount factor**: Determines the importance of future rewards.\n",
    "\n",
    "Another important parameter when *LearningAgent* should choose an action is the **epsilon_rate (ε)** or **exploration rate**. This parameter determines when to explore new states, or when to exploit already learn information.\n",
    "\n",
    "Finally another important value is the **Q init-value**, that is the value assigned to initialize the *Q matrix*. Please, notice that in the code I don't make a static initialization. Instead, in the method **get_q_value** I return **self.q_init_value** if no value for the key is found:\n",
    "\n",
    "~~~~\n",
    "def get_q_value(self, state, action):\n",
    "    key = (state, action)\n",
    "    return self.q_matrix.get(key, self.q_init_value)\n",
    "~~~~\n",
    "\n",
    "The param **self.q_init_value** can be set on the parameters of the *LearningAgent* constructor.\n",
    "\n",
    "In my first attempt I will try with a very *exploratory* *QLearnAgent*. I will assign these values: *alpha_rate = 0.7*, *gamma rate = 0.5*, *epsilon_rate = 0.9* and *Q init-value = 10* (in fact are the default values defined in the constructor of *LearningAgent*).\n",
    "\n",
    "The simulation will be executed 100 times, with enforce_deadline to True. Some temporal code has been created to generate stats that I will analyze."
   ]
  },
  {
   "cell_type": "markdown",
   "metadata": {},
   "source": [
    "### 3.1. Analysis of generated data {#section}"
   ]
  },
  {
   "cell_type": "code",
   "execution_count": 3,
   "metadata": {
    "collapsed": false
   },
   "outputs": [],
   "source": [
    "import pandas as pd\n",
    "\n",
    "data_q_first = pd.read_csv(\"smartcab/q-agent_first_stats.csv\", index_col=0)"
   ]
  },
  {
   "cell_type": "markdown",
   "metadata": {},
   "source": [
    "The generated stats consist on a table containing 100 rows (one by simulation round), and 6 columns:\n",
    "- **simulation_round**: The round number of the simulation.\n",
    "- **success**: True if the agent reached the destination.\n",
    "- **cum_reward**: The accumulated reward in that simulation.\n",
    "- **explored_states_cum**: The accumulated number of states explored.\n",
    "- **traffic_violations_count**: The traffic violations that occurred in that simulation.\n",
    "- **actions_count**: The actions taken in that simulation."
   ]
  },
  {
   "cell_type": "markdown",
   "metadata": {
    "collapsed": true
   },
   "source": [
    "Let's explore the 10 first rounds:"
   ]
  },
  {
   "cell_type": "code",
   "execution_count": 35,
   "metadata": {
    "collapsed": false
   },
   "outputs": [
    {
     "data": {
      "text/html": [
       "<div>\n",
       "<table border=\"1\" class=\"dataframe\">\n",
       "  <thead>\n",
       "    <tr style=\"text-align: right;\">\n",
       "      <th></th>\n",
       "      <th>simulation_round</th>\n",
       "      <th>success</th>\n",
       "      <th>cum_reward</th>\n",
       "      <th>explored_states_cum</th>\n",
       "      <th>traffic_violations_count</th>\n",
       "      <th>actions_count</th>\n",
       "    </tr>\n",
       "  </thead>\n",
       "  <tbody>\n",
       "    <tr>\n",
       "      <th>0</th>\n",
       "      <td>1</td>\n",
       "      <td>True</td>\n",
       "      <td>-6.5</td>\n",
       "      <td>10</td>\n",
       "      <td>5</td>\n",
       "      <td>16</td>\n",
       "    </tr>\n",
       "    <tr>\n",
       "      <th>1</th>\n",
       "      <td>2</td>\n",
       "      <td>True</td>\n",
       "      <td>3.5</td>\n",
       "      <td>21</td>\n",
       "      <td>5</td>\n",
       "      <td>16</td>\n",
       "    </tr>\n",
       "    <tr>\n",
       "      <th>2</th>\n",
       "      <td>3</td>\n",
       "      <td>False</td>\n",
       "      <td>-9.0</td>\n",
       "      <td>29</td>\n",
       "      <td>7</td>\n",
       "      <td>30</td>\n",
       "    </tr>\n",
       "    <tr>\n",
       "      <th>3</th>\n",
       "      <td>4</td>\n",
       "      <td>False</td>\n",
       "      <td>4.5</td>\n",
       "      <td>31</td>\n",
       "      <td>5</td>\n",
       "      <td>20</td>\n",
       "    </tr>\n",
       "    <tr>\n",
       "      <th>4</th>\n",
       "      <td>5</td>\n",
       "      <td>False</td>\n",
       "      <td>-9.5</td>\n",
       "      <td>31</td>\n",
       "      <td>12</td>\n",
       "      <td>35</td>\n",
       "    </tr>\n",
       "    <tr>\n",
       "      <th>5</th>\n",
       "      <td>6</td>\n",
       "      <td>False</td>\n",
       "      <td>3.5</td>\n",
       "      <td>31</td>\n",
       "      <td>8</td>\n",
       "      <td>30</td>\n",
       "    </tr>\n",
       "    <tr>\n",
       "      <th>6</th>\n",
       "      <td>7</td>\n",
       "      <td>False</td>\n",
       "      <td>-2.5</td>\n",
       "      <td>32</td>\n",
       "      <td>7</td>\n",
       "      <td>25</td>\n",
       "    </tr>\n",
       "    <tr>\n",
       "      <th>7</th>\n",
       "      <td>8</td>\n",
       "      <td>False</td>\n",
       "      <td>-11.0</td>\n",
       "      <td>35</td>\n",
       "      <td>8</td>\n",
       "      <td>40</td>\n",
       "    </tr>\n",
       "    <tr>\n",
       "      <th>8</th>\n",
       "      <td>9</td>\n",
       "      <td>False</td>\n",
       "      <td>-3.5</td>\n",
       "      <td>36</td>\n",
       "      <td>7</td>\n",
       "      <td>25</td>\n",
       "    </tr>\n",
       "    <tr>\n",
       "      <th>9</th>\n",
       "      <td>10</td>\n",
       "      <td>False</td>\n",
       "      <td>-5.0</td>\n",
       "      <td>39</td>\n",
       "      <td>10</td>\n",
       "      <td>25</td>\n",
       "    </tr>\n",
       "  </tbody>\n",
       "</table>\n",
       "</div>"
      ],
      "text/plain": [
       "   simulation_round success  cum_reward  explored_states_cum  \\\n",
       "0                 1    True        -6.5                   10   \n",
       "1                 2    True         3.5                   21   \n",
       "2                 3   False        -9.0                   29   \n",
       "3                 4   False         4.5                   31   \n",
       "4                 5   False        -9.5                   31   \n",
       "5                 6   False         3.5                   31   \n",
       "6                 7   False        -2.5                   32   \n",
       "7                 8   False       -11.0                   35   \n",
       "8                 9   False        -3.5                   36   \n",
       "9                10   False        -5.0                   39   \n",
       "\n",
       "   traffic_violations_count  actions_count  \n",
       "0                         5             16  \n",
       "1                         5             16  \n",
       "2                         7             30  \n",
       "3                         5             20  \n",
       "4                        12             35  \n",
       "5                         8             30  \n",
       "6                         7             25  \n",
       "7                         8             40  \n",
       "8                         7             25  \n",
       "9                        10             25  "
      ]
     },
     "execution_count": 35,
     "metadata": {},
     "output_type": "execute_result"
    }
   ],
   "source": [
    "data_q_first.head(10)"
   ]
  },
  {
   "cell_type": "markdown",
   "metadata": {},
   "source": [
    "We see that normally doesn't have success and commits a lot of traffic violations. The accumulated reward is normally negative. The explored states increases as rounds are done.\n",
    "\n",
    "Let's see now the 10 last iterations:"
   ]
  },
  {
   "cell_type": "code",
   "execution_count": 36,
   "metadata": {
    "collapsed": false
   },
   "outputs": [
    {
     "data": {
      "text/html": [
       "<div>\n",
       "<table border=\"1\" class=\"dataframe\">\n",
       "  <thead>\n",
       "    <tr style=\"text-align: right;\">\n",
       "      <th></th>\n",
       "      <th>simulation_round</th>\n",
       "      <th>success</th>\n",
       "      <th>cum_reward</th>\n",
       "      <th>explored_states_cum</th>\n",
       "      <th>traffic_violations_count</th>\n",
       "      <th>actions_count</th>\n",
       "    </tr>\n",
       "  </thead>\n",
       "  <tbody>\n",
       "    <tr>\n",
       "      <th>90</th>\n",
       "      <td>91</td>\n",
       "      <td>False</td>\n",
       "      <td>2.0</td>\n",
       "      <td>110</td>\n",
       "      <td>7</td>\n",
       "      <td>20</td>\n",
       "    </tr>\n",
       "    <tr>\n",
       "      <th>91</th>\n",
       "      <td>92</td>\n",
       "      <td>False</td>\n",
       "      <td>-4.5</td>\n",
       "      <td>110</td>\n",
       "      <td>9</td>\n",
       "      <td>25</td>\n",
       "    </tr>\n",
       "    <tr>\n",
       "      <th>92</th>\n",
       "      <td>93</td>\n",
       "      <td>False</td>\n",
       "      <td>1.0</td>\n",
       "      <td>111</td>\n",
       "      <td>6</td>\n",
       "      <td>30</td>\n",
       "    </tr>\n",
       "    <tr>\n",
       "      <th>93</th>\n",
       "      <td>94</td>\n",
       "      <td>False</td>\n",
       "      <td>0.5</td>\n",
       "      <td>111</td>\n",
       "      <td>5</td>\n",
       "      <td>20</td>\n",
       "    </tr>\n",
       "    <tr>\n",
       "      <th>94</th>\n",
       "      <td>95</td>\n",
       "      <td>False</td>\n",
       "      <td>-4.0</td>\n",
       "      <td>111</td>\n",
       "      <td>5</td>\n",
       "      <td>20</td>\n",
       "    </tr>\n",
       "    <tr>\n",
       "      <th>95</th>\n",
       "      <td>96</td>\n",
       "      <td>False</td>\n",
       "      <td>-2.0</td>\n",
       "      <td>112</td>\n",
       "      <td>7</td>\n",
       "      <td>20</td>\n",
       "    </tr>\n",
       "    <tr>\n",
       "      <th>96</th>\n",
       "      <td>97</td>\n",
       "      <td>True</td>\n",
       "      <td>7.0</td>\n",
       "      <td>112</td>\n",
       "      <td>6</td>\n",
       "      <td>24</td>\n",
       "    </tr>\n",
       "    <tr>\n",
       "      <th>97</th>\n",
       "      <td>98</td>\n",
       "      <td>False</td>\n",
       "      <td>-7.5</td>\n",
       "      <td>112</td>\n",
       "      <td>12</td>\n",
       "      <td>40</td>\n",
       "    </tr>\n",
       "    <tr>\n",
       "      <th>98</th>\n",
       "      <td>99</td>\n",
       "      <td>False</td>\n",
       "      <td>10.5</td>\n",
       "      <td>112</td>\n",
       "      <td>3</td>\n",
       "      <td>20</td>\n",
       "    </tr>\n",
       "    <tr>\n",
       "      <th>99</th>\n",
       "      <td>100</td>\n",
       "      <td>False</td>\n",
       "      <td>-12.5</td>\n",
       "      <td>112</td>\n",
       "      <td>10</td>\n",
       "      <td>30</td>\n",
       "    </tr>\n",
       "  </tbody>\n",
       "</table>\n",
       "</div>"
      ],
      "text/plain": [
       "    simulation_round success  cum_reward  explored_states_cum  \\\n",
       "90                91   False         2.0                  110   \n",
       "91                92   False        -4.5                  110   \n",
       "92                93   False         1.0                  111   \n",
       "93                94   False         0.5                  111   \n",
       "94                95   False        -4.0                  111   \n",
       "95                96   False        -2.0                  112   \n",
       "96                97    True         7.0                  112   \n",
       "97                98   False        -7.5                  112   \n",
       "98                99   False        10.5                  112   \n",
       "99               100   False       -12.5                  112   \n",
       "\n",
       "    traffic_violations_count  actions_count  \n",
       "90                         7             20  \n",
       "91                         9             25  \n",
       "92                         6             30  \n",
       "93                         5             20  \n",
       "94                         5             20  \n",
       "95                         7             20  \n",
       "96                         6             24  \n",
       "97                        12             40  \n",
       "98                         3             20  \n",
       "99                        10             30  "
      ]
     },
     "execution_count": 36,
     "metadata": {},
     "output_type": "execute_result"
    }
   ],
   "source": [
    "data_q_first.tail(10)"
   ]
  },
  {
   "cell_type": "markdown",
   "metadata": {
    "collapsed": true
   },
   "source": [
    "I didn't notice many changes with respect to the basic agent of first section. The *exploratory nature* of our *LearnAgent* causes that in the 100 first simulation explores a lot of unknown states. But it is learning, so if it can perform more simulations, would perform much better than the basic agent."
   ]
  },
  {
   "cell_type": "markdown",
   "metadata": {},
   "source": [
    "## 4. Improve the Q-Learning Driving Agent\n",
    "\n",
    "Now let's tune the values for the **Q init value**, the **learning rate (alpha)**, **the discount factor (gamma)** and the **exploration rate (epsilon)**.\n",
    "\n",
    "I will use *Grid Search* technique to tune these parameters.\n",
    "\n",
    "### 4.1. Grid Search\n",
    "\n",
    "I will do a *Grid Search* with these range of values:\n",
    "- *q_init_values*: 0.0, 5.0, 10 (3 values)\n",
    "- *alpha_rate*: 0.00, 0.25, 0.50, 0.75, 1.00 (5 values)\n",
    "- *epsilon_rate*: 0.00, 0.25, 0.50, 0.75, 1.00 (5 values)\n",
    "- *gamma_rate*: 0.00, 0.25, 0.50, 0.75, 1.00 (5 values)\n",
    "\n",
    "The total of combinations will be 375 (3x5x5x5). For each of the combinations, 100 simulations will be performed. This means 37.500 simulations will be done.\n",
    "\n",
    "For each combination of parameters we will aggregatte **ONLY** the results from the last 10 simulations of the *QLearningAgent*. These aggregated stats will be stored on a csv file, that we will analyze."
   ]
  },
  {
   "cell_type": "code",
   "execution_count": 4,
   "metadata": {
    "collapsed": false
   },
   "outputs": [],
   "source": [
    "import pandas as pd\n",
    "\n",
    "tuning_data = pd.read_csv(\"other/qlearn_agent_tuning_results.csv\", index_col=0)"
   ]
  },
  {
   "cell_type": "markdown",
   "metadata": {
    "collapsed": true
   },
   "source": [
    "Let's see the first row to understand the columns contained:"
   ]
  },
  {
   "cell_type": "code",
   "execution_count": 8,
   "metadata": {
    "collapsed": false
   },
   "outputs": [
    {
     "data": {
      "text/html": [
       "<div>\n",
       "<table border=\"1\" class=\"dataframe\">\n",
       "  <thead>\n",
       "    <tr style=\"text-align: right;\">\n",
       "      <th></th>\n",
       "      <th>q_init_value</th>\n",
       "      <th>alpha_rate</th>\n",
       "      <th>epsilon_rate</th>\n",
       "      <th>gamma_rate</th>\n",
       "      <th>success_perc</th>\n",
       "      <th>traffic_violations_avg</th>\n",
       "      <th>explored_states_avg</th>\n",
       "      <th>reward_cum_avg</th>\n",
       "      <th>actions_avg</th>\n",
       "    </tr>\n",
       "  </thead>\n",
       "  <tbody>\n",
       "    <tr>\n",
       "      <th>0</th>\n",
       "      <td>0.0</td>\n",
       "      <td>0.0</td>\n",
       "      <td>0.0</td>\n",
       "      <td>0.0</td>\n",
       "      <td>30.0</td>\n",
       "      <td>7.2</td>\n",
       "      <td>120.0</td>\n",
       "      <td>-2.15</td>\n",
       "      <td>27.4</td>\n",
       "    </tr>\n",
       "  </tbody>\n",
       "</table>\n",
       "</div>"
      ],
      "text/plain": [
       "   q_init_value  alpha_rate  epsilon_rate  gamma_rate  success_perc  \\\n",
       "0           0.0         0.0           0.0         0.0          30.0   \n",
       "\n",
       "   traffic_violations_avg  explored_states_avg  reward_cum_avg  actions_avg  \n",
       "0                     7.2                120.0           -2.15         27.4  "
      ]
     },
     "execution_count": 8,
     "metadata": {},
     "output_type": "execute_result"
    }
   ],
   "source": [
    "tuning_data.head(1)"
   ]
  },
  {
   "cell_type": "markdown",
   "metadata": {},
   "source": [
    "Each row corresponds to a simulation. The columns are:\n",
    "- **q_init_value**: The Q initial value used in that simulation.\n",
    "- **alpha_rate**: The alpha rate value used in that simulation.\n",
    "- **epsilon_rate**: The epsilon rate value used in that simulation.\n",
    "- **gamma_rate**: The gamma rate value used in that simulation.\n",
    "- **success_perc**: The percentage of success in that simulation (only for 10 last simulations done).\n",
    "- **traffic_violations_avg**: The traffic violation on average in that simulation (only for 10 last simulations done).\n",
    "- **explored_states_avg**: The explored states on average in that simulation (only for 10 last simulations done).\n",
    "- **reward_cum_avg**: The accumulated reward on average in that simulation (only for 10 last simulations done).\n",
    "- **actions_avg**: The actions done on average in that simulation (only for 10 last simulations done)."
   ]
  },
  {
   "cell_type": "markdown",
   "metadata": {
    "collapsed": true
   },
   "source": [
    "### 4.2. An optimal policy\n",
    "\n",
    "Before looking for the optimal combination of parameters, we should define an optimal policy for the *LearnAgent*.\n",
    "\n",
    "In my opinion an optimal policy for the smartcab is one that (in order of importance):\n",
    "1. Minimizes the number of traffic violations.\n",
    "2. Maximizes the success.\n",
    "\n",
    "We can also consider in the policy that the number of actions taken are the least possible."
   ]
  },
  {
   "cell_type": "markdown",
   "metadata": {
    "collapsed": true
   },
   "source": [
    "### 4.3. Looking for the best combination of parameters\n",
    "\n",
    "Let's start describing the data in the generated stats:"
   ]
  },
  {
   "cell_type": "code",
   "execution_count": 9,
   "metadata": {
    "collapsed": false
   },
   "outputs": [
    {
     "data": {
      "text/html": [
       "<div>\n",
       "<table border=\"1\" class=\"dataframe\">\n",
       "  <thead>\n",
       "    <tr style=\"text-align: right;\">\n",
       "      <th></th>\n",
       "      <th>q_init_value</th>\n",
       "      <th>alpha_rate</th>\n",
       "      <th>epsilon_rate</th>\n",
       "      <th>gamma_rate</th>\n",
       "      <th>success_perc</th>\n",
       "      <th>traffic_violations_avg</th>\n",
       "      <th>explored_states_avg</th>\n",
       "      <th>reward_cum_avg</th>\n",
       "      <th>actions_avg</th>\n",
       "    </tr>\n",
       "  </thead>\n",
       "  <tbody>\n",
       "    <tr>\n",
       "      <th>count</th>\n",
       "      <td>81.000000</td>\n",
       "      <td>81.000000</td>\n",
       "      <td>81.000000</td>\n",
       "      <td>81.000000</td>\n",
       "      <td>81.000000</td>\n",
       "      <td>81.000000</td>\n",
       "      <td>81.000000</td>\n",
       "      <td>81.000000</td>\n",
       "      <td>81.000000</td>\n",
       "    </tr>\n",
       "    <tr>\n",
       "      <th>mean</th>\n",
       "      <td>5.000000</td>\n",
       "      <td>0.500000</td>\n",
       "      <td>0.500000</td>\n",
       "      <td>0.500000</td>\n",
       "      <td>20.617284</td>\n",
       "      <td>6.454321</td>\n",
       "      <td>96.527160</td>\n",
       "      <td>-1.064815</td>\n",
       "      <td>26.695062</td>\n",
       "    </tr>\n",
       "    <tr>\n",
       "      <th>std</th>\n",
       "      <td>4.107919</td>\n",
       "      <td>0.410792</td>\n",
       "      <td>0.410792</td>\n",
       "      <td>0.410792</td>\n",
       "      <td>19.896336</td>\n",
       "      <td>3.013928</td>\n",
       "      <td>11.978178</td>\n",
       "      <td>4.228559</td>\n",
       "      <td>4.466428</td>\n",
       "    </tr>\n",
       "    <tr>\n",
       "      <th>min</th>\n",
       "      <td>0.000000</td>\n",
       "      <td>0.000000</td>\n",
       "      <td>0.000000</td>\n",
       "      <td>0.000000</td>\n",
       "      <td>0.000000</td>\n",
       "      <td>0.000000</td>\n",
       "      <td>63.100000</td>\n",
       "      <td>-11.300000</td>\n",
       "      <td>6.600000</td>\n",
       "    </tr>\n",
       "    <tr>\n",
       "      <th>25%</th>\n",
       "      <td>0.000000</td>\n",
       "      <td>0.000000</td>\n",
       "      <td>0.000000</td>\n",
       "      <td>0.000000</td>\n",
       "      <td>10.000000</td>\n",
       "      <td>6.100000</td>\n",
       "      <td>88.200000</td>\n",
       "      <td>-3.350000</td>\n",
       "      <td>24.000000</td>\n",
       "    </tr>\n",
       "    <tr>\n",
       "      <th>50%</th>\n",
       "      <td>5.000000</td>\n",
       "      <td>0.500000</td>\n",
       "      <td>0.500000</td>\n",
       "      <td>0.500000</td>\n",
       "      <td>20.000000</td>\n",
       "      <td>7.300000</td>\n",
       "      <td>96.800000</td>\n",
       "      <td>-1.850000</td>\n",
       "      <td>27.500000</td>\n",
       "    </tr>\n",
       "    <tr>\n",
       "      <th>75%</th>\n",
       "      <td>10.000000</td>\n",
       "      <td>1.000000</td>\n",
       "      <td>1.000000</td>\n",
       "      <td>1.000000</td>\n",
       "      <td>20.000000</td>\n",
       "      <td>8.600000</td>\n",
       "      <td>105.600000</td>\n",
       "      <td>-0.050000</td>\n",
       "      <td>29.500000</td>\n",
       "    </tr>\n",
       "    <tr>\n",
       "      <th>max</th>\n",
       "      <td>10.000000</td>\n",
       "      <td>1.000000</td>\n",
       "      <td>1.000000</td>\n",
       "      <td>1.000000</td>\n",
       "      <td>100.000000</td>\n",
       "      <td>11.100000</td>\n",
       "      <td>120.000000</td>\n",
       "      <td>12.550000</td>\n",
       "      <td>36.500000</td>\n",
       "    </tr>\n",
       "  </tbody>\n",
       "</table>\n",
       "</div>"
      ],
      "text/plain": [
       "       q_init_value  alpha_rate  epsilon_rate  gamma_rate  success_perc  \\\n",
       "count     81.000000   81.000000     81.000000   81.000000     81.000000   \n",
       "mean       5.000000    0.500000      0.500000    0.500000     20.617284   \n",
       "std        4.107919    0.410792      0.410792    0.410792     19.896336   \n",
       "min        0.000000    0.000000      0.000000    0.000000      0.000000   \n",
       "25%        0.000000    0.000000      0.000000    0.000000     10.000000   \n",
       "50%        5.000000    0.500000      0.500000    0.500000     20.000000   \n",
       "75%       10.000000    1.000000      1.000000    1.000000     20.000000   \n",
       "max       10.000000    1.000000      1.000000    1.000000    100.000000   \n",
       "\n",
       "       traffic_violations_avg  explored_states_avg  reward_cum_avg  \\\n",
       "count               81.000000            81.000000       81.000000   \n",
       "mean                 6.454321            96.527160       -1.064815   \n",
       "std                  3.013928            11.978178        4.228559   \n",
       "min                  0.000000            63.100000      -11.300000   \n",
       "25%                  6.100000            88.200000       -3.350000   \n",
       "50%                  7.300000            96.800000       -1.850000   \n",
       "75%                  8.600000           105.600000       -0.050000   \n",
       "max                 11.100000           120.000000       12.550000   \n",
       "\n",
       "       actions_avg  \n",
       "count    81.000000  \n",
       "mean     26.695062  \n",
       "std       4.466428  \n",
       "min       6.600000  \n",
       "25%      24.000000  \n",
       "50%      27.500000  \n",
       "75%      29.500000  \n",
       "max      36.500000  "
      ]
     },
     "execution_count": 9,
     "metadata": {},
     "output_type": "execute_result"
    }
   ],
   "source": [
    "tuning_data.describe()"
   ]
  },
  {
   "cell_type": "markdown",
   "metadata": {},
   "source": [
    "The minimum *traffic_violations_avg* is 0.0, the maximum for *success_perc* is 100% and the minimum for *actions_avg* is 6.6.\n",
    "\n",
    "Let's look for rows where *traffic_violations_avg <= 1* and *success_perc >= 90*:"
   ]
  },
  {
   "cell_type": "code",
   "execution_count": 10,
   "metadata": {
    "collapsed": false
   },
   "outputs": [
    {
     "data": {
      "text/html": [
       "<div>\n",
       "<table border=\"1\" class=\"dataframe\">\n",
       "  <thead>\n",
       "    <tr style=\"text-align: right;\">\n",
       "      <th></th>\n",
       "      <th>q_init_value</th>\n",
       "      <th>alpha_rate</th>\n",
       "      <th>epsilon_rate</th>\n",
       "      <th>gamma_rate</th>\n",
       "      <th>success_perc</th>\n",
       "      <th>traffic_violations_avg</th>\n",
       "      <th>explored_states_avg</th>\n",
       "      <th>reward_cum_avg</th>\n",
       "      <th>actions_avg</th>\n",
       "    </tr>\n",
       "  </thead>\n",
       "  <tbody>\n",
       "    <tr>\n",
       "      <th>10</th>\n",
       "      <td>0.0</td>\n",
       "      <td>0.5</td>\n",
       "      <td>0.0</td>\n",
       "      <td>0.5</td>\n",
       "      <td>100.0</td>\n",
       "      <td>0.1</td>\n",
       "      <td>67.9</td>\n",
       "      <td>10.8</td>\n",
       "      <td>13.6</td>\n",
       "    </tr>\n",
       "  </tbody>\n",
       "</table>\n",
       "</div>"
      ],
      "text/plain": [
       "    q_init_value  alpha_rate  epsilon_rate  gamma_rate  success_perc  \\\n",
       "10           0.0         0.5           0.0         0.5         100.0   \n",
       "\n",
       "    traffic_violations_avg  explored_states_avg  reward_cum_avg  actions_avg  \n",
       "10                     0.1                 67.9            10.8         13.6  "
      ]
     },
     "execution_count": 10,
     "metadata": {},
     "output_type": "execute_result"
    }
   ],
   "source": [
    "tuning_data_rows = tuning_data[(tuning_data['traffic_violations_avg'] <= 1) & (tuning_data['success_perc'] >= 90)]\n",
    "tuning_data_rows.head()"
   ]
  },
  {
   "cell_type": "markdown",
   "metadata": {},
   "source": [
    "In the row 10 we can see that in the 10 last simulations done, the **success_perc=100** and **traffic_violations_avg=0.1**. We can also see that **actions_avg=13.6**.\n",
    "\n",
    "It seems that the price to pay for minimize *traffic_violations_avg* is being far from the minimum *actions_avg* .\n",
    "\n",
    "So based in my criteria for an optimal policy, the parameter values to use are:\n",
    "- *q_init_value* = 0.0\n",
    "- *alpha_rate* = 0.5\n",
    "- *epsilon_rate* = 0.0\n",
    "- *gamma rate* = 0.5\n",
    "\n",
    "These values define a *conservative* agent, that with only 100 simulations rounds done, perform much better than *explorative* agents. But let's see in detail the influence of the parameters."
   ]
  },
  {
   "cell_type": "markdown",
   "metadata": {
    "collapsed": true
   },
   "source": [
    "### 4.4. How these combination of parameters influence *LearnAgent* behaviour\n",
    "\n",
    "To proceed to the analysis, let's generate detailed stats for a *LearnAgent* using these values for parameters.\n",
    "\n",
    "I will execute 100 simulations and store the stats on a cvs file. The data generated follows the same pattern that data generated on [section 3.1](###3.1)."
   ]
  },
  {
   "cell_type": "code",
   "execution_count": 8,
   "metadata": {
    "collapsed": false
   },
   "outputs": [],
   "source": [
    "stats_tuned = pd.read_csv(\"smartcab/stats_tuned_qlearn_agent.csv\", index_col=0)"
   ]
  },
  {
   "cell_type": "markdown",
   "metadata": {},
   "source": [
    "#### 4.4.1. *epsilon_rate* and *q_init_value*\n",
    "\n",
    "The *epsilon_rate=0.0* determines that the *QLearningAgent* will always try to exploit what he has already learn. Also a *q_init_value = 0.0* means that the *QLearningAgent* will be very conservative from the very beginning. \n",
    "\n",
    "The combination of these two parameters determines that the *QLearningAgent* will leave soon to explore new states. Let's visualize this behaviour:"
   ]
  },
  {
   "cell_type": "code",
   "execution_count": null,
   "metadata": {
    "collapsed": true
   },
   "outputs": [],
   "source": [
    "from altair import Chart\n",
    "\n",
    "Chart(stats_tuned).mark_line().encode(\n",
    "    x= 'simulation_round',\n",
    "    y='explored_states_cum'\n",
    ")"
   ]
  },
  {
   "cell_type": "markdown",
   "metadata": {
    "collapsed": true
   },
   "source": [
    "[](images/vega_chart_1.png)"
   ]
  },
  {
   "cell_type": "markdown",
   "metadata": {},
   "source": [
    "![](images/vega_chart_1.png)\n",
    "\n",
    "As expected abount round 10 onwards the number of explored states increses much slower that at the initial rounds. It seems\n",
    "that explored will stabilize around 60-65, but a test with more than 100 round simulations is needed to confirm this trend."
   ]
  },
  {
   "cell_type": "markdown",
   "metadata": {
    "collapsed": true
   },
   "source": [
    "Other important aspect is the the number of possible locations for the smartcab:\n",
    "\n",
    "![](images/grid.png)\n",
    "\n",
    "There are 48 possible locations (8 x 6 grid). In the simulation there are 4 smartcabs in total.\n",
    "\n",
    "This means that there are very few chances for our *QLearnAgent* to learn situations where the actions taken by the other cars are important to avoid traffic violations. So it will need many simulations to fully learn to avoid traffic violations, because will have few chances to learn to correctly interact with other agents.\n",
    "\n",
    "Let's visualize the correlation between *simulation_rounds* and *traffic_violations_count*:"
   ]
  },
  {
   "cell_type": "code",
   "execution_count": null,
   "metadata": {
    "collapsed": true
   },
   "outputs": [],
   "source": [
    "from altair import Chart\n",
    "\n",
    "Chart(stats_tuned).mark_line().encode(\n",
    "    x= 'simulation_round',\n",
    "    y= 'traffic_violations_count'\n",
    ")"
   ]
  },
  {
   "cell_type": "markdown",
   "metadata": {},
   "source": [
    "![](images/vega_chart_2.png)\n",
    "\n",
    "As expected we can see he *QLearnAgent* needs many round to learn to avoid traffic penalties."
   ]
  },
  {
   "cell_type": "markdown",
   "metadata": {},
   "source": [
    "#### 4.4.2. *gamma_rate*\n",
    "\n",
    "As explained previously, *gamma_rate* determines the importance of future rewards. A *gamma_rate=0* causes that future rewards have no influence on the learned value. A *gamma_rate=1* causes that future rewards have a lot of influence on the learned value.\n",
    "\n",
    "Our state includes *next_waypoint* (provided by the *Planner*), and is the only information we have to reach the destination. So is important that our *QLearnAgent* learns that following *next_waypoint* is important. Going to the *next_waypoint* without traffic violations produces a reward of 2.00, and from time to time a reward of 12.00 is received because the destination has been reach (2.00 + 10.00).\n",
    "\n",
    "Also the next state depends on the movements of other agents, and from any state is possible to be transition to any of the other states, so this is a good reason to downplay future rewards.\n",
    "\n",
    "I our case *gamma_rate=0.5*, but probably tt does not have much influence."
   ]
  },
  {
   "cell_type": "markdown",
   "metadata": {},
   "source": [
    "#### 4.4.3. *alpha_rate*\n",
    "\n",
    "The *alpha_rate=0.5* makes sense, becauses the *QLearnAgent* learns that following the *next_waypoint* is good because normally receives a *R=2.00*, but from time to time it receives a *R=12.00*. But this is a little bit random, because the *next_waypoint* has no correlation with the distance to the destination. Just following *next_waypoint* as much as possible is good to reach the destination."
   ]
  }
 ],
 "metadata": {
  "anaconda-cloud": {},
  "kernelspec": {
   "display_name": "Python [default]",
   "language": "python",
   "name": "python2"
  },
  "language_info": {
   "codemirror_mode": {
    "name": "ipython",
    "version": 2
   },
   "file_extension": ".py",
   "mimetype": "text/x-python",
   "name": "python",
   "nbconvert_exporter": "python",
   "pygments_lexer": "ipython2",
   "version": "2.7.12"
  }
 },
 "nbformat": 4,
 "nbformat_minor": 0
}
