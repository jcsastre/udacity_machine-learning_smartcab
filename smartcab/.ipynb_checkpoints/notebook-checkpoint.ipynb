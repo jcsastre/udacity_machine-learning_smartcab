{
 "cells": [
  {
   "cell_type": "code",
   "execution_count": 1,
   "metadata": {
    "collapsed": false
   },
   "outputs": [
    {
     "name": "stderr",
     "output_type": "stream",
     "text": [
      "/home/jcsastre/anaconda2/lib/python2.7/site-packages/matplotlib/font_manager.py:273: UserWarning: Matplotlib is building the font cache using fc-list. This may take a moment.\n",
      "  warnings.warn('Matplotlib is building the font cache using fc-list. This may take a moment.')\n"
     ]
    },
    {
     "name": "stdout",
     "output_type": "stream",
     "text": [
      "Simulator.run(): Trial 0\n",
      "Environment.reset(): Trial set up with start = (8, 2), destination = (5, 3), deadline = 20\n",
      "RoutePlanner.route_to(): destination = (5, 3)\n",
      "Environment.step(): Primary agent ran out of time! Trial aborted.\n",
      "LearningAgent stats: q_values_count = 0, reward_cum = -9.5\n",
      "0\n",
      "1\n",
      "   iteration  q_size  cum_reward success\n",
      "0          1      15        -9.5   False\n"
     ]
    }
   ],
   "source": [
    "from smartcab.simulator import Simulator\n",
    "from smartcab.environment import Environment\n",
    "from smartcab.agents import QLearningAgent\n",
    "\n",
    "# Set up environment and agent\n",
    "e = Environment()  # create environment (also adds some dummy traffic)\n",
    "a = e.create_agent(QLearningAgent)  # create agent\n",
    "e.set_primary_agent(a, enforce_deadline=True)  # specify agent to track\n",
    "\n",
    "# Now simulate it\n",
    "sim = Simulator(e, update_delay=0.001, display=False)  # create simulator\n",
    "sim.run(n_trials=1)  # run for a specified number of trials\n",
    "\n",
    "a.stats_print()"
   ]
  },
  {
   "cell_type": "markdown",
   "metadata": {},
   "source": [
    "<h2>Improve the Q-Learning Driving Agent</h2>\n",
    "\n",
    "Now let's tune the values for *learning rate (alpha)*, *the discount factor (gamma)* and the *exploration rate (epsilon)*. We will perform many simulations with many combinations of these parameters, and the we will report the results to see what is the best combination."
   ]
  },
  {
   "cell_type": "code",
   "execution_count": null,
   "metadata": {
    "collapsed": true
   },
   "outputs": [],
   "source": [
    "import numpy as np\n",
    "\n",
    "# for alpha_rate in np.arange(0.00, 1.00, 0.05):\n",
    "#     for epsilon_rate in np.arange(0.00, 1.00, 0.05):\n",
    "#         for gamma_rate in np.arange(0.00, 1.00, 0.05):"
   ]
  }
 ],
 "metadata": {
  "anaconda-cloud": {},
  "kernelspec": {
   "display_name": "Python [default]",
   "language": "python",
   "name": "python2"
  },
  "language_info": {
   "codemirror_mode": {
    "name": "ipython",
    "version": 2
   },
   "file_extension": ".py",
   "mimetype": "text/x-python",
   "name": "python",
   "nbconvert_exporter": "python",
   "pygments_lexer": "ipython2",
   "version": "2.7.12"
  }
 },
 "nbformat": 4,
 "nbformat_minor": 0
}
